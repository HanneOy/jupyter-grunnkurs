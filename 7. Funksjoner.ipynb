{
 "cells": [
  {
   "cell_type": "markdown",
   "metadata": {},
   "source": [
    "# Funksjoner"
   ]
  },
  {
   "cell_type": "markdown",
   "metadata": {},
   "source": [
    "Funksjoner i Python kan sammenliknes med funksjoner i matematikken. I begge tilfeller sender vi noe inn i funksjonen, så gjør funksjonen noen bestemte operasjoner, og til slutt får vi noe ut igjen. Hvis vi for eksempel har den matematiske funksjonen funksjonen $f(x) = x^2$ og velger input $x = 2$, vil funksjonen returnere $f(2) = 4$. "
   ]
  },
  {
   "cell_type": "markdown",
   "metadata": {},
   "source": [
    "Funksjoner i Python kan sammenliknes med funksjoner i matematikken. I begge tilfeller sender vi noe inn i funksjonen, så gjør funksjonen noen bestemte operasjoner, og til slutt får vi noe ut igjen. Hvis vi for eksempel har den matematiske funksjonen funksjonen $f(x) = x^2$ og velger input $x = 2$, vil funksjonen returnere $f(2) = 4$. \n",
    "\n",
    "Både inputen og outputen i en Python-funksjon kan være én eller flere Python-objekter, som for eksempel tall, lister eller tekststrenger.\n",
    "\n",
    "Å bruke funksjoner i programmeringen vår er spesielt nyttig for å\n",
    "1. Enkelt kunne gjenbruke \n",
    "\n",
    "Her ser dere et generelt oppsett av en funksjon:\n",
    "\n",
    "```python\n",
    "def funksjonsnavn(input1, input2, input3, osv):\n",
    "    [operasjoner]\n",
    "    \n",
    "    return(output1, output2, output3, osv)\n",
    "```\n",
    "\n",
    "Under ser du en funksjon som bruker Pytagoras' setning til å regne ut hypotenusen til en rettvinklet trekant med de to katetene som input"
   ]
  },
  {
   "cell_type": "code",
   "execution_count": 2,
   "metadata": {},
   "outputs": [
    {
     "name": "stdout",
     "output_type": "stream",
     "text": [
      "4\n"
     ]
    }
   ],
   "source": [
    "def f(x):\n",
    "    y = x**2\n",
    "\n",
    "    return y\n",
    "\n",
    "print(f(2))"
   ]
  },
  {
   "cell_type": "markdown",
   "metadata": {},
   "source": [
    "For å få ut resultatene fra funksjonen skriver man altså funksjonsnavnet (`f` i dette tilfellet) etterfulgt av en lukket parentes med input-argumenter. Dette har vi sett tildigere i kurset med fuksjoner som for eksempel `print()` og `plot()`. \n",
    "\n",
    "Det som skjer når du kaller på funksjonen, er at funksjonskallet ditt blir det samme som står etter `return` i funksjonen din. Hvis du for eksempel skriver `a = f(2)` vil `f(2)` være funksjonskallet ditt. Funksjonen `f()` avsluttes med `return y`, altså får variabelen `a` verdien `y`. Som vi ser inni funkjsonen `f()` er `y = x**2`, der `x` er input-argumentet til `f()`. \n",
    "\n",
    "Alt dette vil si at når vi skriver `a = f(2)`, får variabelen `a` verdien `a = f(2) = 2**2 = 4`.\n",
    "\n",
    "Her er et annet eksempel på en funksjon, som bruker Pytagoras' setning til å regne ut hypotenusen til en rettvinklet trekant med de to katetene som input:"
   ]
  },
  {
   "cell_type": "code",
   "execution_count": 3,
   "metadata": {},
   "outputs": [
    {
     "name": "stdout",
     "output_type": "stream",
     "text": [
      "5.0\n"
     ]
    }
   ],
   "source": [
    "def pytagoras(katet1, katet2):\n",
    "    hypotenus_kvadr = katet1**2 + katet2**2\n",
    "    hypotenus = hypotenus_kvadr**0.5        # Vi tar kvadratrot ved å opphøye i en halv. Du kan også importere\n",
    "                                            # en Python-pakke som f.eks. math, og bruke math.sqrt()-funksjonen\n",
    "    return hypotenus\n",
    "\n",
    "a = 3   # Det ene katetet\n",
    "b = 4   # Det andre katetet\n",
    "c = pytagoras(a, b)\n",
    "\n",
    "print(c)"
   ]
  },
  {
   "cell_type": "markdown",
   "metadata": {},
   "source": [
    "I tillegg til å *returnere* noe, kan en funksjon også *skrive ut* noe. I eksemplet over har vi funksjonen\n",
    "\n",
    "```python\n",
    "def pytagoras(katet1, katet2):\n",
    "    hypotenus_kvadr = katet1**2 + katet2**2\n",
    "    hypotenus = hypotenus_kvadr**0.5 \n",
    "    \n",
    "    return hypotenus\n",
    "```\n",
    "\n",
    "som *returnerer* en tallverdi for hypotenusen. Hvis vi for eksempel definerer en variabel\n",
    "```python\n",
    "t = pytagoras(5, 12)\n",
    "```\n",
    "vil få $t = \\sqrt{5^2+12^2} = 13$, altså vil variabelen `t` ha verdien `t = 13.0`. Denne variabelen kan vi så bruke videre og regne med i programmet vårt.\n",
    "\n",
    "I andre tilfeller er det kanskje nok å bare få ut en *utskrift*. For eksempel kunne vi ønsket oss en funksjon som tok inn informasjon om tre sider i en trekant og fortalte oss om den var rettvinklet eller ikke. En slik funksjon kan se slik ut:"
   ]
  },
  {
   "cell_type": "code",
   "execution_count": 30,
   "metadata": {
    "scrolled": true
   },
   "outputs": [
    {
     "name": "stdout",
     "output_type": "stream",
     "text": [
      "Dette er en rettvinklet trekant.\n"
     ]
    }
   ],
   "source": [
    "def rettvinklet(a, b, c):\n",
    "    sider = [a, b, c]       # Samler sidene i en liste\n",
    "    sider.sort()            # Sorterer elementene i stigende rekkefølge\n",
    "\n",
    "    if sider[0]**2 + sider[1]**2 == sider[2]**2:\n",
    "        print(\"Dette er en rettvinklet trekant.\")\n",
    "    else:\n",
    "        print(\"Dette er ikke en rettviklet trekant.\")\n",
    "        \n",
    "rettvinklet(6, 8, 10)"
   ]
  },
  {
   "cell_type": "markdown",
   "metadata": {},
   "source": [
    "Linje 2, altså `sider = [a, b, c]`, samler de tre sidene i en liste.\n",
    "\n",
    "I linje 3, altså`sider.sort()`, bruker vi `sort()`-funksjonen til å sortere elementene i listen i stigende rekkefølge. Hvis trekanten er rettvinklet vil det største tallet av `a`, `b` og `c` være rettvinklet. Dette er nå elementet i lista `sider` med indeks 2. De to katetene vil være elementene med indeks 0 og 1.\n",
    "\n",
    "Merk her at vi ikke definerer noen variabel, men bare skriver `rettvinklet(6, 8, 10)`, og når vi kjører dette får vi utskriften rett ut. Vi trenger ingen `print()`-funksjon når vi kaller på funksjonen `rettvinklet()`, fordi `rettvinklet()` uansett vil gi en utskrift."
   ]
  },
  {
   "cell_type": "markdown",
   "metadata": {},
   "source": [
    "<div class=\"alert alert-block alert-success\">\n",
    "\n",
    "**Tips:**\n",
    "\n",
    "Om vi vil lage en funksjon som *returnerer* noe eller *skriver ut* noe kommer an på hva funksjonen skal brukes til: \n",
    "\n",
    "- Dersom vi trenger én eller flere tallverdier, lister eller andre Python-objekter som skal brukes videre i programmet, bør funksjonen *returnere* dette. \n",
    "\n",
    "- Hvis vi derimot bare trenger å få informasjon eller en beskjed, er det ofte tilstrekkelig å få en *utskrift*.\n",
    "\n",
    "</div>"
   ]
  },
  {
   "cell_type": "markdown",
   "metadata": {},
   "source": [
    "<div class=\"alert alert-block alert-danger\">\n",
    "\n",
    "**Pass på!**\n",
    "\n",
    "Siden $a = 6$, $b = 8$ og $c = 10$ er sidene i en rettvinklet trekant, vil en trekant med sidelengdene $a = 0.06$, $b = 0.08$ og $c = 0.1$ også være rettvinklet, da den er formlik. Hvis du prøver å kjøre funksjonen `rettvinklet()` med disse tallene, vil du imidlertid få ut beskjeden `Dette er ikke en rettviklet trekant.`\n",
    "\n",
    "Dette er fordi siden Python bruker et totallssystem i stedet for et titallssystem, vil det ofte skje avrundingsfeil  når vi bruker flyttall/desimaltall, som er viktig å huske på:\n",
    "\n",
    "</div>"
   ]
  },
  {
   "cell_type": "code",
   "execution_count": 12,
   "metadata": {},
   "outputs": [
    {
     "name": "stdout",
     "output_type": "stream",
     "text": [
      "0,06^2 + 0,08^2 = 0.01\n",
      "0,1^2 = 0.010000000000000002\n"
     ]
    }
   ],
   "source": [
    "print(\"0,06^2 + 0,08^2 =\", 0.06**2 + 0.08**2)\n",
    "print(\"0,1^2 =\", 0.1**2)"
   ]
  },
  {
   "cell_type": "markdown",
   "metadata": {},
   "source": [
    "VARIABLER INNI OG UTENFOR FUNKSJONER"
   ]
  }
 ],
 "metadata": {
  "kernelspec": {
   "display_name": "Python 3",
   "language": "python",
   "name": "python3"
  },
  "language_info": {
   "codemirror_mode": {
    "name": "ipython",
    "version": 3
   },
   "file_extension": ".py",
   "mimetype": "text/x-python",
   "name": "python",
   "nbconvert_exporter": "python",
   "pygments_lexer": "ipython3",
   "version": "3.7.0"
  }
 },
 "nbformat": 4,
 "nbformat_minor": 2
}

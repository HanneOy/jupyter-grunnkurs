{
 "cells": [
  {
   "cell_type": "markdown",
   "metadata": {},
   "source": [
    "# Tegning av grafer og arrayer"
   ]
  },
  {
   "cell_type": "markdown",
   "metadata": {},
   "source": [
    "- [Importering av pakker (til plotting)](#Importering-av-pakker-(til-plotting))\n",
    "- [Tegning av grafer](#Tegning-av-grafer)\n",
    "- [Arrayer](#Arrayer)\n",
    "- [Tegning av grafer med arrayer](#Tegning-av-grafer-med-arrayer)"
   ]
  },
  {
   "cell_type": "markdown",
   "metadata": {},
   "source": [
    "### Importering av pakker (til plotting)"
   ]
  },
  {
   "cell_type": "markdown",
   "metadata": {},
   "source": [
    "Vi har nå sett en del på innebygde funksjoner som `print()` og `input()`, men det finnes også mange flere verktøy vi kan få tilgang til om vi bare *importerer* dem. Disse verktøyene er pakker som ble installert sammen med Anaconda, og for å ta dem i bruk må du eksplisitt fortelle at du vil bruke dem.\n",
    "\n",
    "Verktøyene er bygget opp av en god del kode, og siden man ikke trenger alle disse verktøyene hele tiden, er det mer effektivt å importere dem kun når man skal bruke dem. Importeringen av funksjonene forteller Python at du vil bruke disse verktøyene, og den forteller programmet vårt Jupyter (evt. Spyder) hvor kodefilene til disse funksjonene er lagret på PC-en din.\n",
    "\n",
    "For å tegne grafer, såkalt \"plotting\", må vi importere nye funksjoner. Hovedpakken for plotting heter `matplotlib`. Denne har en modul som heter `pyplot`, og det er denne vi vil importere og bruke. Det gjør vi slik:\n",
    "\n",
    "```python\n",
    "import matplotlib.pyplot as plt\n",
    "```\n",
    "\n",
    "Ved å kjøre denne kodelinjen importerer vi alle verktøyene som ligger i `pyplot`-delen av `matplotlib`-pakken. Funksjonene vi importerer kan vi bruke på tilsvarende måte som funksjonene vi har sett på tidligere, som `print()` og `input()`. Hovedforskjellen er at når vi bruker de importerte funksjonene, må vi skrive `plt.` foran. Vi skriver:\n",
    "\n",
    "```python\n",
    "plt.funksjonsnavn(input1, input2, osv)\n",
    "```\n",
    "\n",
    "Dette forteller programmet vårt at funksjonen `funksjonsnavn()` er hentet fra den importerte `matplotlib.pyplot`-modulen, som vi har valgt å kalle `plt` i vårt program. Det går også an å gi modulen et annet navn, men da må du bytte ut hva du importerer den som (det som står etter `as` i importeringslinja). Vi har valgt å bruke `plt`, siden det er den vanligste forkortelsen å bruke når man importerer `matplotlib.pyplot`. `numpy`, som er en annen mye brukt pakke, er det vanlig å forkorte til `np` når man importerer dem. Andre pakker, som for eksempel `math`, pleier man ikke å forkorte navnet på:\n",
    "\n",
    "```python\n",
    "import numpy as np\n",
    "import math\n",
    "```"
   ]
  },
  {
   "cell_type": "markdown",
   "metadata": {},
   "source": [
    "<div class=\"alert alert-block alert-danger\">\n",
    "\n",
    "**Pass på!**\n",
    "\n",
    "Det finnes også andre måter å importere på. En vanlig måte er å skrive:\n",
    "\n",
    "```python\n",
    "from pylab import *\n",
    "```\n",
    "Dette kan leses som \"importer alt som finnes i modulen `pylab`\".\n",
    "\n",
    "Med `pylab` importerer vi både `matplotlib.pyplot` og en annen pakke som heter `numpy`, som også er mye brukt til programmering i matematikk. Det er imidlertid ikke anbefalt å bruke `pylab` lenger, siden denne modulen ikke lenger oppdateres og man risikerer at programmer som bruker den etter hvert ikke vil kjøre som forventet. \n",
    "\n",
    "Man bør dessuten være forsiktig med import ved `*`. Når du importerer på denne måten, gir du ikke den importerte modulen eller pakken et navn som brukes når du kaller på de ulike verktøyene i den. Dette kan være forvirrende for programmet ditt, for hvis du importerer mange forskjellige pakker kan det være noen bruker samme navn på verktøy som gjør forskjellige ting.\n",
    "\n",
    "|Type importering:|Funksjonskall|\n",
    "|:--|:--|\n",
    "|`import matplotlib.pyplot as plt`|`plt.funksjonsnavn()`|\n",
    "|`from matplotlib.pyplot import *`|`funksjonsnavn()`|\n",
    "\n",
    "</div>"
   ]
  },
  {
   "cell_type": "markdown",
   "metadata": {},
   "source": [
    "La oss si at du importerer både pakke **`a`** og pakke **`b`** på denne måten:\n",
    "```python\n",
    "from a import *\n",
    "from b import *\n",
    "```\n",
    "Hvis begge disse pakkene har en funksjon som heter `funksjon()`, vil ikke begge variantene av `funksjon()` fungere i programmet ditt, og dette vil både være forvirrende for programmet og for den som skal bruke det. \n",
    "\n",
    "Det er ofte tryggere og mer oversiktlig å importere slik:\n",
    "```python\n",
    "import a\n",
    "import b\n",
    "```\n",
    "Her importerer vi pakkene uten å gi dem nye navn, siden navnene deres er såpass korte. Når vi nå skal bruke funksjonen `funksjon()` kaller vi på den med enten `a.funksjon()` eller `b.funksjon()`, alt etter hvilken vi trenger.\n",
    "\n",
    "På den annen side kan man også argumentere for at det er mer forståelig og overkommelig for elevene å bruke `*`-importering. På denne måten trenger de ikke huske \"prefikser\" som for eksempel `plt.` i funksjonskall, fordi det kan være forvirrende for dem.\n",
    "\n",
    "I denne Notebooken vil vi bruke den først viste måten å importere på, men alt i alt vil vi anbefale å importere på samme måte som lærebøkene deres og eksempler dere ønsker å bruke gjør.\n",
    "\n",
    "[Til toppen](#Tegning-av-grafer-og-arrayer)"
   ]
  },
  {
   "cell_type": "markdown",
   "metadata": {},
   "source": [
    "<div class=\"alert alert-block alert-success\">\n",
    "\n",
    "**Tips:**\n",
    "\n",
    "Når du bruker en Jupyter Notebook trenger du bare å importere en pakke eller modul én gang, og så kan den brukes i alle kodecellene dine - både de du allerede har laget, og alle de nye du lager. I denne Notebooken vil du imidlertid se at mange kodeceller starter med å importere de samme pakkene igjen og igjen. Dette er fordi pakkene må importeres på nytt hver gang Notebooken åpnes. Siden du neppe vil lese og kjøre dette dokumentet fra topp til bunn hver gang du bruker det, er tanken at du kan importere pakkene du trenger på mange forskjellige steder i dokumentet.\n",
    "\n",
    "</div>"
   ]
  },
  {
   "cell_type": "markdown",
   "metadata": {},
   "source": [
    "### Tegning av grafer"
   ]
  },
  {
   "cell_type": "markdown",
   "metadata": {},
   "source": [
    "La oss se på et helt enkelt eksempel der vi plotter funksjonen $f(x) = x^2$ for noen verdier av $x$:"
   ]
  },
  {
   "cell_type": "code",
   "execution_count": 1,
   "metadata": {},
   "outputs": [
    {
     "data": {
      "image/png": "[encoded data removed]",
      "text/plain": [
       "<Figure size 432x288 with 1 Axes>"
      ]
     },
     "metadata": {
      "needs_background": "light"
     },
     "output_type": "display_data"
    }
   ],
   "source": [
    "import matplotlib.pyplot as plt\n",
    "\n",
    "x = [0, 1, 2, 3, 4, 5, 6]\n",
    "y = [0, 1, 4, 9, 16, 25, 36]\n",
    "\n",
    "plt.figure()    # Lager en ny tom figur\n",
    "plt.plot(x, y)  # Plotter x-verdiene langs førsteaksen\n",
    "                # og y-verdiene langs andreaksen\n",
    "plt.show()      # Viser figuren"
   ]
  },
  {
   "cell_type": "markdown",
   "metadata": {},
   "source": [
    "Merk at `x`og `y` har like mange elementer - det er viktig, for ellers kan de ikke plottes mot hverandre!\n",
    "\n",
    "Vi ser at grafen vår er litt hakkete, siden det er såpass få punkter, men det er absolutt en brukbar skisse av funksjonen. \n",
    "\n",
    "Det er også mange ting vi kan gjøre med grafen for å pynte på den. For eksempel mangler den både $x$- og $y$-akse, rutenett og navn på aksene, men det kan vi gi den. Nedenfor er en liste med kommandoer som kan brukes. Det finnes mange flere, men dette er de mest sentrale for oss. Hvis dere ønsker flere muligheter, er et Google-søk med \"python + plot + (det man leter etter)\" en god mulighet. Farge setter man i `plot()`-kommandoen."
   ]
  },
  {
   "cell_type": "markdown",
   "metadata": {},
   "source": [
    "<div class=\"alert alert-block alert-success\">\n",
    "\n",
    "|Kommando|Beskrivelse|\n",
    "|:--- |:---|\n",
    "|`\"b\", \"r\", \"g\", \"m\", \"c\", \"y\", \"w\", \"k\"` |Angir farge (henholdsvis blå, rød, grønn, magenta, cyan, gul, hvit og sort)|\n",
    "|`title()`  |Setter inn tittelen på grafen øverst i vinduet |\n",
    "|`xlabel()` |Setter inn navn på $x$-aksen |\n",
    "|`ylabel()` |Setter inn navn på $y$-aksen |\n",
    "|`xlim()`   |Setter intervallet for $x$-aksen |\n",
    "|`ylim()`   |Setter intervallet for $y$-aksen |\n",
    "|`grid()`   |Tegner rutenett |\n",
    "|`axhline()`|Lager horisontal linje |\n",
    "|`avhline()`|Lager vertikal linje |\n",
    "|`show()`   |Viser grafen |\n",
    "    \n",
    "</div>"
   ]
  },
  {
   "cell_type": "markdown",
   "metadata": {},
   "source": [
    "Her er et nytt plott med flere detaljer:"
   ]
  },
  {
   "cell_type": "code",
   "execution_count": 2,
   "metadata": {},
   "outputs": [
    {
     "data": {
      "image/png": "[encoded data removed]",
      "text/plain": [
       "<Figure size 432x288 with 1 Axes>"
      ]
     },
     "metadata": {
      "needs_background": "light"
     },
     "output_type": "display_data"
    }
   ],
   "source": [
    "import matplotlib.pyplot as plt\n",
    "\n",
    "x = [0, 1, 2, 3, 4, 5, 6]\n",
    "y = [0, 1, 4, 9, 16, 25, 36]\n",
    "\n",
    "plt.figure()\n",
    "plt.plot(x, y, color='g', linestyle='--', label=\"g(x)\")\n",
    "plt.grid()\n",
    "plt.xlabel(\"x-verdier\")\n",
    "plt.ylabel(\"y-verdier\")\n",
    "plt.title(\"Graf til funksjonen f(x) = x^2\")\n",
    "plt.axhline(y=0, color=\"k\")\n",
    "plt.axvline(x=0, color=\"k\")\n",
    "plt.legend()\n",
    "plt.show()"
   ]
  },
  {
   "cell_type": "markdown",
   "metadata": {},
   "source": [
    "<div class=\"alert alert-block alert-info\">\n",
    "\n",
    "**Oppgave:**\n",
    "\n",
    "Her er en oversikt over høyden til en gutt for hver tredje måned fram til han ble 1 år gammel:\n",
    "\n",
    "|Alder|Høyde i cm|\n",
    "|:--|:--:|\n",
    "|Nyfødt|52|\n",
    "|3 måneder|63|\n",
    "|6 måneder|70|\n",
    "|9 måneder|75|\n",
    "|12 måneder|78|\n",
    "\n",
    "Lag et program som plotter disse målingene mot hverandre, lagret i listene `alder` og `høyde`.\n",
    "    \n",
    "</div>"
   ]
  },
  {
   "cell_type": "code",
   "execution_count": null,
   "metadata": {},
   "outputs": [],
   "source": [
    "import matplotlib.pyplot as plt\n",
    "\n",
    "alder = ['0 mnd', '3 mnd', '6 mnd', '9 mnd', '12 mnd']\n",
    "høyde = [52, 63, 70, 75, 78]\n",
    "\n",
    "# Her kan du skrive programmet ditt:\n",
    "\n",
    "\n"
   ]
  },
  {
   "cell_type": "markdown",
   "metadata": {},
   "source": [
    ".\n",
    "\n",
    ".\n",
    "\n",
    ".\n",
    "\n",
    ".\n",
    "\n",
    ".\n",
    "\n",
    ".\n",
    "\n",
    ".\n",
    "\n",
    ".\n",
    "\n",
    ".\n",
    "\n",
    ".\n",
    "\n",
    ".\n",
    "\n",
    ".\n",
    "\n",
    ".\n",
    "\n",
    ".\n",
    "\n",
    ".\n",
    "\n",
    ".\n",
    "\n",
    ".\n",
    "\n",
    ".\n",
    "\n",
    ".\n",
    "\n",
    ".\n",
    "\n",
    "."
   ]
  },
  {
   "cell_type": "code",
   "execution_count": null,
   "metadata": {},
   "outputs": [],
   "source": [
    "import matplotlib.pyplot as plt\n",
    "\n",
    "alder = ['0 mnd', '3 mnd', '6 mnd', '9 mnd', '12 mnd']\n",
    "høyde = [52, 63, 70, 75, 78]\n",
    "\n",
    "plt.figure()\n",
    "plt.plot(alder, høyde, color='m')\n",
    "plt.grid()\n",
    "plt.xlabel(\"Alder\")\n",
    "plt.ylabel(\"Høyde\")\n",
    "plt.title(\"Høydemålinger fra 0 til 1 år\")\n",
    "plt.axhline(y=0, color=\"k\")\n",
    "plt.axvline(x=0, color=\"k\")\n",
    "plt.show()"
   ]
  },
  {
   "cell_type": "markdown",
   "metadata": {},
   "source": [
    "[Til toppen](#Tegning-av-grafer-og-arrayer)"
   ]
  },
  {
   "cell_type": "markdown",
   "metadata": {},
   "source": [
    "### Arrayer"
   ]
  },
  {
   "cell_type": "markdown",
   "metadata": {},
   "source": [
    "Vi bruker biblioteket `numpy` når vi jobber med arrayer. En array er på mange måter veldig lik en liste, men det er noen vesentlige forskjeller. En array er et vektorobjekt i Python, og måten disse er implementert i Python på gjør vektor-/matriseoperasjoner veldig effektivt. Skal man gjøre lineær-algebraiske utregniger bør man jobbe med arrayer. \n",
    "\n",
    "Under ser du et eksempel der vi både har en liste og en array som inneholder tallene `[1, 2, 3]`. Vi vil øke hvert av elementene med $1$:"
   ]
  },
  {
   "cell_type": "code",
   "execution_count": 3,
   "metadata": {},
   "outputs": [
    {
     "name": "stdout",
     "output_type": "stream",
     "text": [
      "[1, 2, 3]\n",
      "[2, 3, 4]\n"
     ]
    }
   ],
   "source": [
    "tall_li = [1, 2, 3]\n",
    "print(tall_li)\n",
    "\n",
    "for i in range(len(tall_li)):\n",
    "    tall_li[i] = tall_li[i] + 1\n",
    "print(tall_li)"
   ]
  },
  {
   "cell_type": "code",
   "execution_count": 4,
   "metadata": {},
   "outputs": [
    {
     "name": "stdout",
     "output_type": "stream",
     "text": [
      "[1 2 3]\n",
      "[2 3 4]\n"
     ]
    }
   ],
   "source": [
    "import numpy as np\n",
    "\n",
    "tall_ar = np.array([1, 2, 3])\n",
    "print(tall_ar)\n",
    "\n",
    "tall_ar = tall_ar + 1\n",
    "print(tall_ar)"
   ]
  },
  {
   "cell_type": "markdown",
   "metadata": {},
   "source": [
    "Her ser vi at en array er mer effektiv og krever færre kodelinjer til å gjøre denne operasjonen.\n",
    "\n",
    "Vi bruker ofte arrayer i tegning av grafer, særlig ved å bruke `linspace()`-funksjonen i `numpy`-biblioteket. Funksjonen `linspace(a, b, n)` gir oss en array med $n$ elementer fra og med $a$ til og med $b$."
   ]
  },
  {
   "cell_type": "code",
   "execution_count": 5,
   "metadata": {
    "scrolled": true
   },
   "outputs": [
    {
     "name": "stdout",
     "output_type": "stream",
     "text": [
      "[ 0.  1.  2.  3.  4.  5.  6.  7.  8.  9. 10.]\n"
     ]
    }
   ],
   "source": [
    "import numpy as np\n",
    "\n",
    "x = np.linspace(0, 10, 11)\n",
    "print(x)"
   ]
  },
  {
   "cell_type": "markdown",
   "metadata": {},
   "source": [
    "Vi kan se på et eksempel der vi regner ut $f(x) = x^2$ for alle heltallsverdiene av $x$ fra $0$ til $10$:"
   ]
  },
  {
   "cell_type": "code",
   "execution_count": 6,
   "metadata": {
    "scrolled": true
   },
   "outputs": [
    {
     "name": "stdout",
     "output_type": "stream",
     "text": [
      "[  0.   1.   4.   9.  16.  25.  36.  49.  64.  81. 100.]\n"
     ]
    }
   ],
   "source": [
    "def f(x):\n",
    "    return x**2\n",
    "\n",
    "x = np.linspace(0, 10, 11)\n",
    "print(f(x))"
   ]
  },
  {
   "cell_type": "markdown",
   "metadata": {},
   "source": [
    "[Til toppen](#Tegning-av-grafer-og-arrayer)"
   ]
  },
  {
   "cell_type": "markdown",
   "metadata": {},
   "source": [
    "### Tegning av grafer med arrayer"
   ]
  },
  {
   "cell_type": "markdown",
   "metadata": {},
   "source": [
    "Nå har vi både sett på tegning av grafer og arrayer, så nå kan vi prøve å sette dette sammen. Vi kan for eksempel tenke oss at vi har lyst til å tegne grafen til funksjonen\n",
    "\n",
    "$$g(x) = x^2 + \\frac{1}{2x} - 4$$\n",
    "\n",
    "for $x \\in [0.5,\\, 3]$. Når vi bruker `linspace(a, b, n)`-funksjonen velger vi `a=0.5` og `b=3`, og lar `n` være et stort tall slik at vi får en glatt kurve:"
   ]
  },
  {
   "cell_type": "code",
   "execution_count": 7,
   "metadata": {
    "scrolled": true
   },
   "outputs": [
    {
     "data": {
      "image/png": "[encoded data removed]",
      "text/plain": [
       "<Figure size 432x288 with 1 Axes>"
      ]
     },
     "metadata": {
      "needs_background": "light"
     },
     "output_type": "display_data"
    }
   ],
   "source": [
    "import matplotlib.pyplot as plt\n",
    "import numpy as np\n",
    "\n",
    "def g(x):\n",
    "    return x**2 + 2/x - 4\n",
    "\n",
    "x = np.linspace(0.5, 3, 100) # Oppretter en array med x-verdier\n",
    "y = g(x)                     # Lager y-verdiene\n",
    "\n",
    "plt.figure()\n",
    "plt.plot(x, y, color='r', label=\"g(x)\") \n",
    "plt.grid()\n",
    "plt.xlabel(\"x-verdier\")\n",
    "plt.ylabel(\"y-verdier\")\n",
    "plt.title(\"Graf til funksjonen g(x) = x^2 + 1/2x - 4\")\n",
    "plt.axhline(y=0, color=\"k\")\n",
    "plt.axvline(x=0, color=\"k\")\n",
    "plt.legend()\n",
    "\n",
    "\n",
    "plt.show() # Viser plottet"
   ]
  },
  {
   "cell_type": "markdown",
   "metadata": {},
   "source": [
    "Vi kan også ha mer enn én linje i samme plott. Hvis vi for eksempel også vil plotte funksjonen\n",
    "\n",
    "$$h(x) = \\frac{e^x}{2}$$\n",
    "\n",
    "sammen med $g(x)$, trenger vi bare å legge til funksjonen i programmet vårt:\n",
    "```python\n",
    "def h(x):\n",
    "    return np.exp(x) / 2\n",
    "```\n",
    "    \n",
    "lage $y$-verdier på tilsvarende måte som for funksjonen $g(x)$:\n",
    "```python\n",
    "y2 = h(x)\n",
    "```\n",
    "og legge til en ekstra linje i plottedelen for å tegne grafen til funksjonen:\n",
    "```python\n",
    "plt.plot(x, y2, color='b', linestyle=':', label=\"h(x)\") \n",
    "```\n",
    "\n",
    "Satt sammen vil programmet se slik ut:"
   ]
  },
  {
   "cell_type": "code",
   "execution_count": 8,
   "metadata": {},
   "outputs": [
    {
     "data": {
      "image/png": "[encoded data removed]",
      "text/plain": [
       "<Figure size 432x288 with 1 Axes>"
      ]
     },
     "metadata": {
      "needs_background": "light"
     },
     "output_type": "display_data"
    }
   ],
   "source": [
    "import matplotlib.pyplot as plt\n",
    "import numpy as np\n",
    "\n",
    "def g(x):\n",
    "    return x**2 + 2/x - 4\n",
    "\n",
    "def h(x):   # Her definerer vi den nye funksjonen\n",
    "    return np.exp(x) / 2\n",
    "\n",
    "x = np.linspace(0.5, 3, 100)\n",
    "y = g(x)\n",
    "y2 = h(x)   # Her lager vi y-verdier til den nye linja\n",
    "\n",
    "plt.figure()\n",
    "plt.plot(x, y, color='r', label=\"g(x)\")\n",
    "plt.plot(x, y2, color='b', linestyle=':', label=\"h(x)\") # Den nye linja plottes\n",
    "plt.grid()\n",
    "plt.xlabel(\"x-verdier\")\n",
    "plt.ylabel(\"y-verdier\")\n",
    "plt.title(\"Graf til funksjonene g(x) og h(x)\")\n",
    "plt.axhline(y=0, color=\"k\")\n",
    "plt.axvline(x=0, color=\"k\")\n",
    "plt.legend()\n",
    "plt.show()"
   ]
  },
  {
   "cell_type": "markdown",
   "metadata": {},
   "source": [
    "<div class=\"alert alert-block alert-info\">\n",
    "\n",
    "**Oppgave:**\n",
    "    \n",
    "Du skal plotte funksjonen $f(x) = x^3 - 2x^2 - 5x$\n",
    "\n",
    "og dens deriverte $f'(x) = 3x^2 - 4x - 5$\n",
    "    \n",
    "for $x \\in [-2, 3]$ i samme plott. Det kan være lurt å lage funksjoner for $f(x)$ og $f'(x)$.\n",
    "    \n",
    "</div>"
   ]
  },
  {
   "cell_type": "code",
   "execution_count": null,
   "metadata": {},
   "outputs": [],
   "source": [
    "# Her kan du skrive programmet ditt:\n",
    "\n",
    "\n"
   ]
  },
  {
   "cell_type": "markdown",
   "metadata": {},
   "source": [
    ".\n",
    "\n",
    ".\n",
    "\n",
    ".\n",
    "\n",
    ".\n",
    "\n",
    ".\n",
    "\n",
    ".\n",
    "\n",
    ".\n",
    "\n",
    ".\n",
    "\n",
    ".\n",
    "\n",
    ".\n",
    "\n",
    ".\n",
    "\n",
    ".\n",
    "\n",
    ".\n",
    "\n",
    ".\n",
    "\n",
    ".\n",
    "\n",
    ".\n",
    "\n",
    ".\n",
    "\n",
    ".\n",
    "\n",
    ".\n",
    "\n",
    ".\n",
    "\n",
    "."
   ]
  },
  {
   "cell_type": "code",
   "execution_count": null,
   "metadata": {},
   "outputs": [],
   "source": [
    "def f(x):\n",
    "    return x**3 - 2 * x**2 - 5 * x\n",
    "\n",
    "def f_der(x):\n",
    "    return 3 * x**2 - 4 * x - 5\n",
    "\n",
    "x = np.linspace(-2, 3, 100)\n",
    "y = f(x)\n",
    "y_der = f_der(x)\n",
    "\n",
    "plt.figure()\n",
    "plt.plot(x, y, color='g', label=\"f(x)\")\n",
    "plt.plot(x, y_der, linestyle='--', label=\"f'(x)\") # Den nye linja plottes\n",
    "plt.grid()\n",
    "plt.xlabel(\"x-verdier\")\n",
    "plt.ylabel(\"y-verdier\")\n",
    "plt.title(\"Graf til f(x) og f'(x)\")\n",
    "plt.axhline(y=0, color=\"k\")\n",
    "plt.axvline(x=0, color=\"k\")\n",
    "plt.legend()\n",
    "plt.show()"
   ]
  },
  {
   "cell_type": "markdown",
   "metadata": {},
   "source": [
    "[Til toppen](#Tegning-av-grafer-og-arrayer)"
   ]
  }
 ],
 "metadata": {
  "kernelspec": {
   "display_name": "Python 3",
   "language": "python",
   "name": "python3"
  },
  "language_info": {
   "codemirror_mode": {
    "name": "ipython",
    "version": 3
   },
   "file_extension": ".py",
   "mimetype": "text/x-python",
   "name": "python",
   "nbconvert_exporter": "python",
   "pygments_lexer": "ipython3",
   "version": "3.8.5"
  }
 },
 "nbformat": 4,
 "nbformat_minor": 4
}

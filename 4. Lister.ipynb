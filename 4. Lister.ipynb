{
 "cells": [
  {
   "cell_type": "markdown",
   "metadata": {},
   "source": [
    "# Lister"
   ]
  },
  {
   "cell_type": "markdown",
   "metadata": {},
   "source": [
    "- [Oppretting av lister](#Oppretting-av-lister)\n",
    "- [Legge til og fjerne elementer i lister](#Legge-til-og-fjerne-elementer-i-lister)\n",
    "- [Skrive ut et element med en bestemt indeks](#Skrive-ut-et-element-med-en-bestemt-indeks)\n",
    "- [Endre elementene i en liste](#Endre-elementene-i-en-liste)\n",
    "- [Telle antall elementer i en liste](#Telle-antall-elementer-i-en-liste)\n",
    "- [Andre operasjoner med lister](#Andre-operasjoner-med-lister)"
   ]
  },
  {
   "cell_type": "markdown",
   "metadata": {},
   "source": [
    "Vi har tidligere sett på variabler, som kan ha ulike \"typer\", for eksempel heltall `int`, desimaltall/flyttall `float` og tekststrenger `str`. Disse typene er *Python-objekter*, og vi kan gjøre ulike operasjoner på dem. For eksempel kan vi gjøre matematikkoperasjoner, som multiplikasjon og addisjon, på heltall og flyttall, men disse operasjonene er ikke definert på tekststrenger.\n",
    "\n",
    "En *liste* er også et Python-objekt, og kan anses som en beholder som inneholder variabler i en bestemt rekkefølge. Det er veldig mange operasjoner man kan gjøre på lister, og vi skal her se på noen av de viktigste."
   ]
  },
  {
   "cell_type": "markdown",
   "metadata": {},
   "source": [
    "### Oppretting av lister"
   ]
  },
  {
   "cell_type": "markdown",
   "metadata": {},
   "source": [
    "En liste opprettes ved at man omslutter elementer, skilt med komea, med klammeparentes [ ]. For eksempel, hvis man vil skrive en liste med tallene $1, 2$ og $3$ skriver man:"
   ]
  },
  {
   "cell_type": "code",
   "execution_count": 1,
   "metadata": {},
   "outputs": [
    {
     "name": "stdout",
     "output_type": "stream",
     "text": [
      "[1, 2, 3]\n"
     ]
    }
   ],
   "source": [
    "tall_liste = [1, 2, 3]\n",
    "print(tall_liste)"
   ]
  },
  {
   "cell_type": "markdown",
   "metadata": {},
   "source": [
    "Objektet `tall_liste` er nå en liste som inneholder de valgte elementene. For å sjekke at det faktisk er en liste kan vi bruke `type()`-funksjonen slik vi har gjort tidligere:"
   ]
  },
  {
   "cell_type": "code",
   "execution_count": 2,
   "metadata": {},
   "outputs": [
    {
     "name": "stdout",
     "output_type": "stream",
     "text": [
      "<class 'list'>\n"
     ]
    }
   ],
   "source": [
    "print(type(tall_liste))"
   ]
  },
  {
   "cell_type": "markdown",
   "metadata": {},
   "source": [
    "<div class=\"alert alert-block alert-success\">\n",
    "\n",
    "**Tips:**\n",
    "\n",
    "Lister kan både inneholde heltall, flyttall og tekststrenger - og til og med andre lister! Hvis du har tekstsrenger i en liste kan du velge mellom å sette dem i enten doble eller enkle hermetegn.\n",
    "\n",
    "</div>"
   ]
  },
  {
   "cell_type": "code",
   "execution_count": 3,
   "metadata": {},
   "outputs": [
    {
     "name": "stdout",
     "output_type": "stream",
     "text": [
      "[1, 2, 'tre', [4, 5, 6]]\n"
     ]
    }
   ],
   "source": [
    "min_liste = [1, 2, 'tre', [4, 5, 6]]\n",
    "print(min_liste)"
   ]
  },
  {
   "cell_type": "markdown",
   "metadata": {},
   "source": [
    "### Legge til og fjerne elementer i lister"
   ]
  },
  {
   "cell_type": "markdown",
   "metadata": {},
   "source": [
    "Lister er objekter som har en rekke funksjoner knyttet til seg, og disse funksjonene kalles *metoder*. For å bruke dem skriver man navnet på listen etterfulgt av et punktum, og deretter navnet på funksjonen man ønsker å bruke. \n",
    "\n",
    "Som et eksempel skal vi se på hvordan man legger til et element i en liste ved hjelp av metoden `append()`. La oss legge til tallet $4$ i listen `tall_liste`."
   ]
  },
  {
   "cell_type": "code",
   "execution_count": 8,
   "metadata": {
    "scrolled": true
   },
   "outputs": [
    {
     "name": "stdout",
     "output_type": "stream",
     "text": [
      "[1, 2, 3, 4]\n"
     ]
    }
   ],
   "source": [
    "tall_liste = [1, 2, 3]\n",
    "\n",
    "tall_liste.append(4)\n",
    "print(tall_liste)"
   ]
  },
  {
   "cell_type": "markdown",
   "metadata": {},
   "source": [
    "Merk her at `append()` er en funksjon, og derfor bruker vi `()` etter den. Inni parentesen gir vi en input $4$. Metoden `append()` tar i dette tilfellet tallet $4$ og legger det til som siste element i listen. "
   ]
  },
  {
   "cell_type": "markdown",
   "metadata": {},
   "source": [
    "<div class=\"alert alert-block alert-success\">\n",
    "\n",
    "**Tips:**\n",
    "\n",
    "Jupyter Notebook har en innebygd alternativ om å \"auto-fullføre\" koden din ved å trykke på `tab` på tastaturet. For eksempel, hvis du skal legge til et element i en liste som heter `liste`, men ikke husker helt hva metoden heter, kan du skrive `liste` med et punktum `.` etter og trykke på `tab`. Da vil programmet vise deg alle de mulige metodene du kan velge.\n",
    "\n",
    "Auto-fullførfunksjonen gjelder også for andre innebygde Python-funksjoner og -kommandoer. Hvis du for eksempel skal skrive ut noe og husker at kommandoen het ett eller annet på p, men ikke hele navnet, kan du skrive inn `p` og trykke på `tab`. Du vil da få opp alle innebygde kommandoer som begynner på på p, med de vanligste først.\n",
    "</div>"
   ]
  },
  {
   "cell_type": "markdown",
   "metadata": {},
   "source": [
    "For å fjerne det siste elementet i en liste bruker vi metoden `pop()`:"
   ]
  },
  {
   "cell_type": "code",
   "execution_count": 9,
   "metadata": {},
   "outputs": [
    {
     "name": "stdout",
     "output_type": "stream",
     "text": [
      "[1, 2, 3]\n"
     ]
    }
   ],
   "source": [
    "tall_liste.pop()\n",
    "print(tall_liste)"
   ]
  },
  {
   "cell_type": "markdown",
   "metadata": {},
   "source": [
    "Tallet $4$ har nå blitt fjernet igjen. Prøv å kjøre kodebiten over noen ganger for å se hva som skjer.\n",
    "\n",
    "Legg merke til at vi ikke har gitt metoden `pop()` noen input. Dette er et eksempel på en funksjon som har en pre-definert handling/\"default-handling\" som den gjør uten at vi trenger å gi den en input. Uten en input vil den altså fjerne det siste elementet. \n",
    "\n",
    "Det er likevel mulig å gi `pop()`-funksjonen en input, som da vil overstyre den pre-definerte handlingen. Inputten må være et heltall, og representerer indeksen til det elementet som skal fjernes. Hvis man gir inputten $0$ vil det *første* elementet fjernes, slik:"
   ]
  },
  {
   "cell_type": "code",
   "execution_count": 10,
   "metadata": {},
   "outputs": [
    {
     "name": "stdout",
     "output_type": "stream",
     "text": [
      "[2, 3]\n"
     ]
    }
   ],
   "source": [
    "tall_liste.pop(0)\n",
    "print(tall_liste)"
   ]
  },
  {
   "cell_type": "markdown",
   "metadata": {},
   "source": [
    "Det er kanskje overraskende at det første elementet representeres med indeksen $0$ i stedet for $1$, men det er nå en gang slik indeksering i Python er definert. Det siste elementet i listen vil derfor ha en indeks som er ett heltall mindre enn antall elementer i listen. I begynnelsen kan dette være vanskelig å huske, men dere vender dere til det etter hvert."
   ]
  },
  {
   "cell_type": "markdown",
   "metadata": {},
   "source": [
    "<div class=\"alert alert-block alert-info\">\n",
    "\n",
    "**Oppgave:**\n",
    "\n",
    "Vi har følgende liste: \n",
    "\n",
    "<p style=\"margin-left: 20px\"><font face=\"Courier New\">tall = [1, 2, 3, 4, 'fem']</font></p>\n",
    "\n",
    "Vi vil i stedet at den skal se slik ut:\n",
    "\n",
    "<p style=\"margin-left: 20px\"><font face=\"Courier New\">tall = [1, 2, 3, 4, 5]</font></p>\n",
    "\n",
    "Fullfør koden under slik at listen blir slik vi vil ha den. \n",
    "</div>"
   ]
  },
  {
   "cell_type": "code",
   "execution_count": null,
   "metadata": {},
   "outputs": [],
   "source": [
    "tall = [1, 2, 3, 4, 'fem']\n",
    "\n"
   ]
  },
  {
   "cell_type": "markdown",
   "metadata": {},
   "source": [
    ".\n",
    "\n",
    ".\n",
    "\n",
    ".\n",
    "\n",
    ".\n",
    "\n",
    ".\n",
    "\n",
    ".\n",
    "\n",
    ".\n",
    "\n",
    ".\n",
    "\n",
    ".\n",
    "\n",
    ".\n",
    "\n",
    ".\n",
    "\n",
    ".\n",
    "\n",
    ".\n",
    "\n",
    ".\n",
    "\n",
    ".\n",
    "\n",
    ".\n",
    "\n",
    ".\n",
    "\n",
    ".\n",
    "\n",
    ".\n",
    "\n",
    ".\n",
    "\n",
    "."
   ]
  },
  {
   "cell_type": "code",
   "execution_count": null,
   "metadata": {},
   "outputs": [],
   "source": [
    "tall = [1, 2, 3, 4, 'fem']\n",
    "\n",
    "tall.pop()\n",
    "tall.append(5)\n",
    "\n",
    "print(tall)"
   ]
  },
  {
   "cell_type": "markdown",
   "metadata": {},
   "source": [
    "### Skrive ut et element med en bestemt indeks"
   ]
  },
  {
   "cell_type": "markdown",
   "metadata": {},
   "source": [
    "For å skrive ut et element med en bestemt indeks skriver man navnet på liste-objektet, etterfulgt av en klammerparentes [ ] med indeksnummeret inni. For eksempel, hvis du vil hente ut det tredje elementet i lista `elementer` skriver du `elementer[2]`."
   ]
  },
  {
   "cell_type": "code",
   "execution_count": null,
   "metadata": {},
   "outputs": [],
   "source": [
    "liste = [1, 3.14, 'katt', 'Silje', -120, 17]\n",
    "\n",
    "print(\"Første element:\", liste[0])\n",
    "print(\"Tredje element:\", liste[2]) \n",
    "print(\"Siste element:\", liste[5])\n",
    "print(\"Siste element:\", liste[-1])"
   ]
  },
  {
   "cell_type": "markdown",
   "metadata": {},
   "source": [
    "I den siste linja brukte vi indeksnummer `-1`, som printer ut det siste elementet i en liste. Tilsvarende vil `-2` gi det nest siste, `-3` vil gi det tredje siste, og så videre. Dette er nyttig hvis man ikke vet hvor mange elementer det er i lista.\n",
    "\n",
    "Legg merke til at å printe et element fra listen ikke endrer den eller elementene i den, slik som for eksempel `pop()` og `append()` gjør."
   ]
  },
  {
   "cell_type": "markdown",
   "metadata": {},
   "source": [
    "<div class=\"alert alert-block alert-success\">\n",
    "\n",
    "**Tips:**\n",
    "\n",
    "Et element i en Python-liste kan kalles på på to forskjellige måter - både ved å telle forfra og bakfra:\n",
    "<p>\n",
    "\n",
    "<font face=\"Courier New\">\n",
    "<table style=\"width:20%\">\n",
    "    <tr>\n",
    "        <th> a </th>\n",
    "        <th> = </th>\n",
    "        <th> [10, </th>\n",
    "        <th> 20, </th>\n",
    "        <th> 30, </th>\n",
    "        <th> 40] </th>\n",
    "    </tr>\n",
    "    <tr>\n",
    "        <td> indeks </td>\n",
    "        <td> : </td>\n",
    "        <td> 0 </td>\n",
    "        <td> 1 </td>\n",
    "        <td> 2 </td>\n",
    "        <td> 3 </td>\n",
    "    </tr>\n",
    "    <tr>\n",
    "        <td> indeks </td>\n",
    "        <td> : </td>\n",
    "        <td> -4 </td>\n",
    "        <td> -3 </td>\n",
    "        <td> -2 </td>\n",
    "        <td> -1 </td>\n",
    "    </tr>\n",
    "</table> \n",
    "</font>\n",
    "\n",
    "Elementet 20 kan en altså hente fram både ved å kalle på `a[1]` og `a[-3]`.\n",
    "\n",
    "</div>"
   ]
  },
  {
   "cell_type": "markdown",
   "metadata": {},
   "source": [
    "<div class=\"alert alert-block alert-danger\">\n",
    "\n",
    "**Pass på!**\n",
    "\n",
    "Noen ganger kommer du kanskje til å prøve å kalle på indekser som ikke er definert, for eksempel hvis du bruker en tekststreng eller et flyttall som indeks. Dette vil returnere en `TypeError`. Du kan også komme til å bruke en indeks som er utenfor definisjonsområdet til listen, som vil gi en `IndexError`.\n",
    "\n",
    "Prøv å kjøre kodesnutten under og bytte ut om det er `liste[a]`, `liste[b]`, `liste[c]` eller `liste[d]` som skrives ut for å gjøre deg kjent med de ulike feilmeldingene\n",
    "\n",
    "</div>"
   ]
  },
  {
   "cell_type": "code",
   "execution_count": 8,
   "metadata": {},
   "outputs": [
    {
     "name": "stdout",
     "output_type": "stream",
     "text": [
      "gul\n"
     ]
    }
   ],
   "source": [
    "a = 2\n",
    "b = 2.0\n",
    "c = '2'\n",
    "d = 4\n",
    "\n",
    "liste = ['rød', 'grønn', 'gul', 'blå']\n",
    "print(liste[a])  # Prøv å bytte ut a med b, c eller d"
   ]
  },
  {
   "cell_type": "markdown",
   "metadata": {},
   "source": [
    "<div class=\"alert alert-block alert-info\">\n",
    "\n",
    "**Oppgave:** \n",
    "\n",
    "Fullfør koden under for å lage et program som tar en lager en liste bestående av det første og siste elementet i en annen liste. Prøv å endre på elementene i lista `liste` for å sjekke at koden din gjør det den skal også for andre lister.\n",
    "\n",
    "</div>"
   ]
  },
  {
   "cell_type": "code",
   "execution_count": null,
   "metadata": {},
   "outputs": [],
   "source": [
    "liste = [100, 80, 60, 40, 20]\n",
    "\n",
    "ny_liste = ???"
   ]
  },
  {
   "cell_type": "markdown",
   "metadata": {},
   "source": [
    ".\n",
    "\n",
    ".\n",
    "\n",
    ".\n",
    "\n",
    ".\n",
    "\n",
    ".\n",
    "\n",
    ".\n",
    "\n",
    ".\n",
    "\n",
    ".\n",
    "\n",
    ".\n",
    "\n",
    ".\n",
    "\n",
    ".\n",
    "\n",
    ".\n",
    "\n",
    ".\n",
    "\n",
    ".\n",
    "\n",
    ".\n",
    "\n",
    ".\n",
    "\n",
    ".\n",
    "\n",
    ".\n",
    "\n",
    ".\n",
    "\n",
    ".\n",
    "\n",
    "."
   ]
  },
  {
   "cell_type": "code",
   "execution_count": null,
   "metadata": {},
   "outputs": [],
   "source": [
    "liste = [100, 80, 60, 40, 20]\n",
    "\n",
    "ny_liste = [liste[0], liste[-1]]\n",
    "print(ny_liste)"
   ]
  },
  {
   "cell_type": "markdown",
   "metadata": {},
   "source": [
    "### Endre elementene i en liste"
   ]
  },
  {
   "cell_type": "markdown",
   "metadata": {},
   "source": [
    "Vi kan også bruke indeksering til å erstatte elementer i en liste. Dette gjør vi ved å skrive navnet på liste-objektet, etterfunglt av en klammerparentes [ ] med indeksnummeret inni, og sette dette lik den nye verdien til elementet med den valgte indeksen."
   ]
  },
  {
   "cell_type": "code",
   "execution_count": null,
   "metadata": {},
   "outputs": [],
   "source": [
    "ting = ['ball', 'stol', 'genser', 'bok']\n",
    "print(ting)\n",
    "\n",
    "ting[1] = 'maleri'\n",
    "print(ting)"
   ]
  },
  {
   "cell_type": "markdown",
   "metadata": {},
   "source": [
    "Her har vi byttet ut det andre elementet i listen, altså `'stol'`, som hadde indeks `1`, med `'maleri'`."
   ]
  },
  {
   "cell_type": "markdown",
   "metadata": {},
   "source": [
    "<div class=\"alert alert-block alert-info\">\n",
    "\n",
    "<b>Oppgave:</b> \n",
    "\n",
    "Vi har en liste `oddetall` som inneholder tre heltall og én liste:\n",
    "\n",
    "<p style=\"margin-left: 20px\"><font face=\"Courier New\">oddetall = [1, 3, [5, 5], 7]</font></p>\n",
    "\n",
    "Vi vil i stedet at den skal se slik ut:\n",
    "\n",
    "<p style=\"margin-left: 20px\"><font face=\"Courier New\">oddetall = [1, 3, 5, 7]</font></p>\n",
    "\n",
    "Fullfør koden under slik at listen blir slik vi vil ha den. \n",
    "\n",
    "</div>"
   ]
  },
  {
   "cell_type": "code",
   "execution_count": 9,
   "metadata": {},
   "outputs": [],
   "source": [
    "oddetall = [1, 3, [5, 5], 7]\n",
    "\n"
   ]
  },
  {
   "cell_type": "markdown",
   "metadata": {},
   "source": [
    ".\n",
    "\n",
    ".\n",
    "\n",
    ".\n",
    "\n",
    ".\n",
    "\n",
    ".\n",
    "\n",
    ".\n",
    "\n",
    ".\n",
    "\n",
    ".\n",
    "\n",
    ".\n",
    "\n",
    ".\n",
    "\n",
    ".\n",
    "\n",
    ".\n",
    "\n",
    ".\n",
    "\n",
    ".\n",
    "\n",
    ".\n",
    "\n",
    ".\n",
    "\n",
    ".\n",
    "\n",
    ".\n",
    "\n",
    ".\n",
    "\n",
    ".\n",
    "\n",
    "."
   ]
  },
  {
   "cell_type": "code",
   "execution_count": null,
   "metadata": {
    "scrolled": true
   },
   "outputs": [],
   "source": [
    "oddetall = [1, 3, [5, 5], 7]\n",
    "\n",
    "oddetall[2] = 5\n",
    "print(oddetall)"
   ]
  },
  {
   "cell_type": "markdown",
   "metadata": {},
   "source": [
    "### Telle antall elementer i en liste"
   ]
  },
  {
   "cell_type": "markdown",
   "metadata": {},
   "source": [
    " Ofte vil vi vite hvor mange elementer det er i en liste. Dette kan vi gjøre med funksjonen `len()`. Hvis vi for eksempel ønsker å vite hvor mange elementer det er i lista `liste`, vil `len(liste)` fortelle oss det."
   ]
  },
  {
   "cell_type": "code",
   "execution_count": null,
   "metadata": {},
   "outputs": [],
   "source": [
    "liste = [1, 3.14, 'katt', 'Silje', -120, 17]\n",
    "print(len(liste))"
   ]
  },
  {
   "cell_type": "markdown",
   "metadata": {},
   "source": [
    "Hvis du kjører kodebiten over ser du at den skriver ut `6`, altså er det $6$ elementer i lista `liste`."
   ]
  },
  {
   "cell_type": "markdown",
   "metadata": {},
   "source": [
    "### Andre operasjoner med lister"
   ]
  },
  {
   "cell_type": "markdown",
   "metadata": {},
   "source": [
    "Det er en lang rekke med andre operasjoner man kan gjøre med lister,  men dette ede mest grunnleggende. Flere vil introduseres etter hvert, men for de interesserte finner man alle mulige operasjoner og funksjoner på [dokumentasjonssiden til Python](https://docs.python.org/3/tutorial/datastructures.html).\n",
    "\n",
    "For å nevne noen operasjoner kan man slå sammen lister, utvide lister, legge til elementer påbestemte plasser, kopiere lister og sortere lister."
   ]
  },
  {
   "cell_type": "markdown",
   "metadata": {},
   "source": [
    "<div class=\"alert alert-block alert-success\">\n",
    "\n",
    "**Tips:**\n",
    "\n",
    "Det går også an å opprette tomme lister. Hvis du ønsker å lage den tomme lista `tom_liste` gjør du det ved å skrive `tom_liste = []`. Denne kan man deretter legge til elementer i på samme måte som vist over, noe som kan være nyttig om du lager programmer med flere outputs som du har lyst til å \"lagre\".\n",
    "\n",
    "</div>"
   ]
  },
  {
   "cell_type": "markdown",
   "metadata": {},
   "source": [
    "[Til toppen](#Lister)"
   ]
  }
 ],
 "metadata": {
  "kernelspec": {
   "display_name": "Python 3",
   "language": "python",
   "name": "python3"
  },
  "language_info": {
   "codemirror_mode": {
    "name": "ipython",
    "version": 3
   },
   "file_extension": ".py",
   "mimetype": "text/x-python",
   "name": "python",
   "nbconvert_exporter": "python",
   "pygments_lexer": "ipython3",
   "version": "3.7.0"
  }
 },
 "nbformat": 4,
 "nbformat_minor": 2
}

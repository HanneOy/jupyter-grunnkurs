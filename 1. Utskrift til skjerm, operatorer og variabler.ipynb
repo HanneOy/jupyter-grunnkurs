{
 "cells": [
  {
   "cell_type": "markdown",
   "metadata": {},
   "source": [
    "# Utskrift til skjerm, operatorer og variabler"
   ]
  },
  {
   "cell_type": "markdown",
   "metadata": {},
   "source": [
    "- [Utskrift til skjerm](#Utskrift-til-skjerm)\n",
    "- [Operatorer og Python som kalkulator](#Operatorer-og-Python-som-kalkulator)\n",
    "- [Variabler](#Variabler)"
   ]
  },
  {
   "cell_type": "markdown",
   "metadata": {},
   "source": [
    "### Utskrift til skjerm"
   ]
  },
  {
   "cell_type": "markdown",
   "metadata": {},
   "source": [
    "Vi skal begynne helt enkelt med programmeringen vår, nemlig med å få dette programmet til å skrive `Hallo verden`. Til dette trenger vi en kodeboks. \n",
    "\n",
    "Prøv å kjøre kodeboksen under ved å enten trykke på \"Run\" øverst på siden, eller ved å trykke på Ctrl+Enter på tastaturet."
   ]
  },
  {
   "cell_type": "code",
   "execution_count": null,
   "metadata": {},
   "outputs": [],
   "source": [
    "Hallo verden"
   ]
  },
  {
   "cell_type": "markdown",
   "metadata": {},
   "source": [
    "Som du fort vil se når du kjører koden, er det litt mer som skal til. Vi skal nå introdusere vår første Python-kommando, nemlig `print()`. Når vi bruker denne kommandoen, vil det vi har inni parentesen skrives ut til skjermen. Hvis det du skal skrive ut til skjermen er en tekst, er det viktig at du setter den inn i enten doble eller enkle anførselstegn, som for eksempel `print(\"Hallo verden\")` eller `print('Hallo verden')`. "
   ]
  },
  {
   "cell_type": "code",
   "execution_count": null,
   "metadata": {},
   "outputs": [],
   "source": [
    "print(\"Hallo verden\")"
   ]
  },
  {
   "cell_type": "markdown",
   "metadata": {},
   "source": [
    "<div class=\"alert alert-block alert-info\">\n",
    "<b>Oppgave:</b>\n",
    "\n",
    "Prøv å bytte ut innholdet i parentesen i kodesnutten over med andre ting. Hvordan blir det når du fjerner anførselstegnene, eller når du bruker tall?\n",
    "\n",
    "</div>"
   ]
  },
  {
   "cell_type": "markdown",
   "metadata": {},
   "source": [
    "Nå skal vi se på hvordan det ser ut når vi skriver ut forskjellige tall. I Python har vi to typer tall, nemlig heltall (`int` for \"integer\") og desimaltall/flyttall (`float`). Tekst, eller tekststrenger, kalles `str` for \"string\" i Python. Vi kan undersøke hva slags datatype vi har ved hjelp av kommandoen `type()`."
   ]
  },
  {
   "cell_type": "code",
   "execution_count": null,
   "metadata": {},
   "outputs": [],
   "source": [
    "print(type(\"Hei\"))\n",
    "print(type(2))\n",
    "print(type(4.3))"
   ]
  },
  {
   "cell_type": "markdown",
   "metadata": {},
   "source": [
    "<div class=\"alert alert-block alert-danger\">\n",
    "<b>Pass på!</b>\n",
    "\n",
    "Det er dessuten viktig å huske at Python bruker punktum som desimaltegn, og ikke komma:\n",
    "\n",
    "</div>"
   ]
  },
  {
   "cell_type": "code",
   "execution_count": null,
   "metadata": {},
   "outputs": [],
   "source": [
    "print(4.3)\n",
    "print(4,3)"
   ]
  },
  {
   "cell_type": "markdown",
   "metadata": {},
   "source": [
    "Hvis du kjører koden vil du se at den siste linja skrev ut tallene `4` og `3`, og ikke desimaltallet `4.3`.\n",
    "\n",
    "Vi kan også kombinere tekst og tall i samme utskrift. Vi skiller på tekst og tall med komma:"
   ]
  },
  {
   "cell_type": "code",
   "execution_count": null,
   "metadata": {},
   "outputs": [],
   "source": [
    "print(\"Lise har\", 20, \"epler\")"
   ]
  },
  {
   "cell_type": "markdown",
   "metadata": {},
   "source": [
    "<div class=\"alert alert-block alert-success\">\n",
    "\n",
    "<b>Tips:</b> \n",
    "\n",
    "Hvor mange mellomrom du har i koden din har ingenting å si - så lenge du ikke har mellomrom inni ord, tall eller tekststrenger. Kodesnuttene\n",
    "\n",
    "<p style=\"margin-left: 20px\"><font face=\"Courier New\">print(\"Lise har\", 20, \"epler\")</font></p>\n",
    "\n",
    "<p style=\"margin-left: 20px\"><font face=\"Courier New\">print(\"Lise har\",20,\"epler\")</font></p>\n",
    "\n",
    "<p style=\"margin-left: 20px\"><font face=\"Courier New\">print      (     \"Lise har\"    ,       20       ,         \"epler\"      )</font></p>\n",
    "\n",
    "vil alle gi utskriften <font face=\"Courier New\">Lise har 20 epler</font>.\n",
    "\n",
    "<p style=\"margin-left: 20px\"><font face=\"Courier New\">p rint(\"Lise har\", 20, \"epler\")</font></p>\n",
    "\n",
    "vil derimot gi en feilmelding, for her er det et mellomrom inni selve <font face=\"Courier New\">print()</font>-kommandoen.\n",
    "\n",
    "</div>"
   ]
  },
  {
   "cell_type": "markdown",
   "metadata": {},
   "source": [
    "### Operatorer og Python som kalkulator"
   ]
  },
  {
   "cell_type": "markdown",
   "metadata": {},
   "source": [
    "Vi kan bruke Python til å gjøre både enkle og mer komplekse regneoperasjoner – vi skal se på de enkle først ved å bruke Python som en enkel kalkulator:"
   ]
  },
  {
   "cell_type": "code",
   "execution_count": null,
   "metadata": {
    "scrolled": true
   },
   "outputs": [],
   "source": [
    "print(2 + 2)    # Addisjon\n",
    "print(3 - 1)    # Subtraksjon\n",
    "print(6 * 3)    # Multiplikasjon\n",
    "print(25 / 5)   # Divisjon\n",
    "print(2**3)     # Potens, her er 2 opphøyd i 3"
   ]
  },
  {
   "cell_type": "markdown",
   "metadata": {},
   "source": [
    "<div class=\"alert alert-block alert-success\">\n",
    "\n",
    "<b>Tips:</b> \n",
    "\n",
    "Hvis du vil skrive kommentarer i koden din, kan du bruke symbolet #. Alt du skriver på samme linje bak dette tegnet vil hoppes over når koden kjører, og er fint å bruke for å forklare hva koden gjør - både til elever og til deg selv, så du ikke glemmer det senere.\n",
    "\n",
    "</div>"
   ]
  },
  {
   "cell_type": "markdown",
   "metadata": {},
   "source": [
    "<div class=\"alert alert-block alert-info\">\n",
    "<b>Oppgave:</b>\n",
    "\n",
    "Bytt ut spørsmålstegnene i kodeblokken under for å lage et regnestykke i der du bruker flere av de ulike regneoperasjonene.\n",
    "\n",
    "</div>"
   ]
  },
  {
   "cell_type": "code",
   "execution_count": null,
   "metadata": {},
   "outputs": [],
   "source": [
    "print(???)"
   ]
  },
  {
   "cell_type": "markdown",
   "metadata": {},
   "source": [
    "Vi skal nå se på noen mer spesielle regneoperasjoner, nemlig heltallsdivisjon og modulus-operatoren. Heltallsdivisjon er divisjon der det rundes ned til nærmeste heltall. Med modulusoperatoren finner vi resten etter heltallsdivisjon. Modulusoperatoren er veldig fin å ha for å undersøke om et tall er delelig på et annet, noe vi skal bruke den til senere i kurset."
   ]
  },
  {
   "cell_type": "code",
   "execution_count": null,
   "metadata": {},
   "outputs": [],
   "source": [
    "print(13 // 3)  # Heltallsdivisjon\n",
    "print(13 % 3)   # Modulus"
   ]
  },
  {
   "cell_type": "markdown",
   "metadata": {},
   "source": [
    "Her ser vi at `13 // 3` returnerer `4`, fordi $13/3 = 4.3333$, og når vi runder ned til nærmeste heltall får vi $4$.\n",
    "\n",
    "`13 % 3`returnerer `1` siden `13 // 3 = 4`, og $13 - (3 \\cdot 4) = 1$"
   ]
  },
  {
   "cell_type": "markdown",
   "metadata": {},
   "source": [
    "<div class=\"alert alert-block alert-info\">\n",
    "<b>Oppgave:</b>\n",
    "\n",
    "Bytt ut spørsmålstegnene i kodeblokken under for å lage et regnestykke i der du bruker flere av de ulike regneoperasjonene, blant annet heltallsdivisjon og/eller modulusoperatoren. \n",
    "\n",
    "Tenk gjennom hvordan programmet vil gå fram og hva svaret kan tenkes å bli før du kjører koden.\n",
    "\n",
    "</div>"
   ]
  },
  {
   "cell_type": "code",
   "execution_count": null,
   "metadata": {
    "scrolled": true
   },
   "outputs": [],
   "source": [
    "print(???)"
   ]
  },
  {
   "cell_type": "markdown",
   "metadata": {},
   "source": [
    "### Variabler"
   ]
  },
  {
   "cell_type": "markdown",
   "metadata": {},
   "source": [
    "Som regel bruker vi ikke Python til å bare skrive ut tall og tekst til skjerm, men heller til å løse mer omfattende oppgaver og problemer. Da kan det være praktisk å introdusere *variabler*. En variabel kan anses som en \"databeholder\", altså noe vi lagrer data og informasjon i, og dette gjør det også lettere å hente fram denne dataen senere i programmet. \n",
    "\n",
    "Det kan for eksempel være du lager et program der du skal bruke lysfarten, $3 \\cdot 10^8 \\frac{m}{s}$. Da kan du selvsagt skrive `3 * 10**8` hver gang du trenger denne, men det vil være mer oversiktlig å definere dette ved hjelp av en variabel. Alle variabler har navn, og denne kan man for eksempel kalle `lysfart`, ved å skrive `lysfart = 3 * 10**8`. Du kan da kalle på `lysfart` senere i koden når du trenger dette tallet. \n",
    "\n",
    "I andre tilfeller har du noe som skal oppdateres underveis i programmet, og da vil det være helt avgjørende å ha dette definert som en variabel.\n",
    "\n",
    "Vi kan se på et eksempel om bruk av variabler i utregningen av arealet til et rektangel."
   ]
  },
  {
   "cell_type": "code",
   "execution_count": null,
   "metadata": {},
   "outputs": [],
   "source": [
    "lengde = 3      # Definerer variabelen \"lengde\"\n",
    "bredde = 4      # Definerer variabelen \"bredde\"\n",
    "\n",
    "areal = lengde * bredde\n",
    "print(areal)"
   ]
  },
  {
   "cell_type": "markdown",
   "metadata": {},
   "source": [
    "Vi kan også ha en mer beskrivende utskrift:"
   ]
  },
  {
   "cell_type": "code",
   "execution_count": null,
   "metadata": {
    "scrolled": true
   },
   "outputs": [],
   "source": [
    "print(\"Arealet av rektanglet er\", areal, \"cm^2\")"
   ]
  },
  {
   "cell_type": "markdown",
   "metadata": {},
   "source": [
    "Variabler kan også være tekststrenger:"
   ]
  },
  {
   "cell_type": "code",
   "execution_count": null,
   "metadata": {},
   "outputs": [],
   "source": [
    "enhet = \"cm^2\"\n",
    "\n",
    "print(\"Arealet av rektanglet er\", areal, enhet)"
   ]
  },
  {
   "cell_type": "markdown",
   "metadata": {},
   "source": [
    "Som nevnt over kan man også oppdatere verdien til en variabel:"
   ]
  },
  {
   "cell_type": "code",
   "execution_count": null,
   "metadata": {},
   "outputs": [],
   "source": [
    "a = 5\n",
    "print(a)\n",
    "\n",
    "a = a + 3\n",
    "print(a)"
   ]
  },
  {
   "cell_type": "markdown",
   "metadata": {},
   "source": [
    "<div class=\"alert alert-block alert-success\">\n",
    "\n",
    "<b>Tips:</b> \n",
    "\n",
    "Noen regler for variabelnavn:\n",
    "<ul>\n",
    "    <li> Kan inneholde bokstaver, understrek og tall – men kan ikke begynne med tall.\n",
    "    <li> Det er lurt å bruke beskrivende variabelnavn så koden blir lettere å forstå. </li>\n",
    "    <li> Pass på å ikke bruke kommandoer som variabelnavn. \n",
    "        <ul>\n",
    "            <li> <font face=\"Courier New\">sum()</font> er for eksempel en kommando som man lett kan finne på å bruke som variabelnavn, men det er ikke så lurt, for da skriver du over denne kommandoen slik at <font face=\"Courier New\">sum()</font> ikke gjør det den skal. </li>\n",
    "            <li> Hvis variabelnavnet får en annen farge en svart, vet du at du har brukt en eksisterende kommando som variabelnavn - og at du bør døpe den om. </li>\n",
    "        </ul>\n",
    "    </li>\n",
    "</ul>\n",
    "\n",
    "Hvis du får en <font face=\"Courier New\">NameError</font>-feilmelding betyr det at du har prøvd å kjøre en kode med en variabel som ikke er definert.\n",
    "\n",
    "</div>"
   ]
  },
  {
   "cell_type": "markdown",
   "metadata": {},
   "source": [
    "<div class=\"alert alert-block alert-info\">\n",
    "\n",
    "<b>Oppgave:</b> \n",
    "\n",
    "Du skal nå lage et lite program som skriver ut navnet og alderen din på én linje.\n",
    "\n",
    "<ol>\n",
    " <li> Lag en variabel som er navnet ditt, og en som er alderen din. </li>\n",
    " <li> Få programmet til å skrive ut et setning som forteller hva du heter og hvor gammel du er. </li>\n",
    "</ol>\n",
    "\n",
    "Du finner et løsningsforslag lenger ned - men prøv selv først!\n",
    "\n",
    "</div>"
   ]
  },
  {
   "cell_type": "code",
   "execution_count": null,
   "metadata": {},
   "outputs": [],
   "source": [
    "# Her kan du skrive programmet ditt:\n",
    "\n"
   ]
  },
  {
   "cell_type": "markdown",
   "metadata": {},
   "source": [
    ".\n",
    "\n",
    ".\n",
    "\n",
    ".\n",
    "\n",
    ".\n",
    "\n",
    ".\n",
    "\n",
    ".\n",
    "\n",
    ".\n",
    "\n",
    ".\n",
    "\n",
    ".\n",
    "\n",
    ".\n",
    "\n",
    ".\n",
    "\n",
    ".\n",
    "\n",
    ".\n",
    "\n",
    ".\n",
    "\n",
    ".\n",
    "\n",
    ".\n",
    "\n",
    ".\n",
    "\n",
    ".\n",
    "\n",
    ".\n",
    "\n",
    ".\n",
    "\n",
    "."
   ]
  },
  {
   "cell_type": "code",
   "execution_count": null,
   "metadata": {},
   "outputs": [],
   "source": [
    "# Løsningsforslag:\n",
    "\n",
    "navn = \"Thorvald\"\n",
    "alder = 96\n",
    "\n",
    "print(\"Jeg heter\", navn, \"og er\", alder, \"år\")"
   ]
  },
  {
   "cell_type": "markdown",
   "metadata": {},
   "source": [
    "[Til toppen](#Utskrift-til-skjerm,-operatorer-og-variabler)"
   ]
  }
 ],
 "metadata": {
  "kernelspec": {
   "display_name": "Python 3",
   "language": "python",
   "name": "python3"
  },
  "language_info": {
   "codemirror_mode": {
    "name": "ipython",
    "version": 3
   },
   "file_extension": ".py",
   "mimetype": "text/x-python",
   "name": "python",
   "nbconvert_exporter": "python",
   "pygments_lexer": "ipython3",
   "version": "3.7.0"
  }
 },
 "nbformat": 4,
 "nbformat_minor": 2
}

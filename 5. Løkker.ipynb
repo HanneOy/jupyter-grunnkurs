{
 "cells": [
  {
   "cell_type": "markdown",
   "metadata": {},
   "source": [
    "# Løkker"
   ]
  },
  {
   "cell_type": "markdown",
   "metadata": {},
   "source": [
    "- [*for*-løkker](#for-løkker)\n",
    "    - [*for*-løkker og lister](#for-løkker-og-lister)\n",
    "    - [*for*-løkker og `range()`-funksjonen](#for-løkker-og-range()-funksjonen)\n",
    "- [*while*-løkker](#while-løkker)"
   ]
  },
  {
   "cell_type": "markdown",
   "metadata": {},
   "source": [
    "Vi skal nå introdusere *løkker*, noe som virkelig kommer til å åpne mange dører i programmeringen vår. Ei løkke brukes til handlinger som skal gjentas flere ganger. Vi har to forskjellige typer løkker: *for*- og *while*-løkker. \n",
    "\n",
    "Vi bruker ei ***for*-løkke** når vi vil kjøre løkka et gitt antall ganger. For å ta eksempel fra virkeligheten kan vi se på det å åpne julekalenderluker i advent, som kan formuleres som: \"for hver dag i advent skal jeg åpne kalenderluken og spise sjokoladen inni\". Da vet vi at operasjonen skal repeteres så mange ganger som det er dager i advent, altså 24 ganger. Deretter er vi ferdige og løkka kjøres ikke lenger - passende nok, for da er det jo også tomt for både uåpnede luker og sjokolade. Med et \"kodeoppsett\" kan dette vises slik:\n",
    "\n",
    "```python\n",
    "for [hver dag] in [advent]:\n",
    "    [åpne kalenderluken]\n",
    "    [spis sjokoladen]\n",
    "```\n",
    "\n",
    "Vi bruker ei ***while*-løkke** når vi vil kjøre løkka fram til et bestemt mål er nådd. Som et eksempel kan vi tenke oss at når vi strikker et skjerf, strikker vi én og én rad helt til skjerfet er så langt som vi ønsker det skal bli. Dette kan formuleres som: \"så lenge skjerfet jeg strikker er kortere enn jeg vil det skal være, strikker jeg en rad til\". Vi vet på forhånd ikke nøyaktig hvor mange rader som skal til for å nå den ønskede lengden, så vi repeterer operasjonen helt til vi har nådd den. Med et \"kodeoppsett\" kan dette vises slik:\n",
    "\n",
    "```python\n",
    "while [skjerfets lengde] < [ønsket lengde]:\n",
    "    [strikk en rad til]\n",
    "```\n",
    "\n",
    "Det er åpenbare fordeler med å bruke løkker i koden vår, for ved at programmet selv kan gjøre den samme operasjonen gang på gang, slipper vi å skrive så mange linjer kode. Koden blir da mer kompakt, slik at det både blir enklere å feilsøke og rette opp i den, og programmet blir også mer effektivt når det kjøres. \n",
    "\n",
    "Løkker kan imidlertid også være litt forvirrende. Fram til nå har vi hatt temmelig \"lineære\" programmer som kjøres ovenfra og ned til bunnen, linje for linje. Når vi trekker inn løkker i programmeringen vår blir ikke alt lenger like lineært, for programmet vil \"hoppe opp\" igjen til starten av løkka helt fram til kriteriet dens er oppfylt, og så vil programmet fortsette videre nedover.\n",
    "\n",
    "I denne Jupyter Notebooken skal vi gå gjennom løkker i programmering, og vi begynner med *for*-løkker."
   ]
  },
  {
   "cell_type": "markdown",
   "metadata": {},
   "source": [
    "## *for*-løkker"
   ]
  },
  {
   "cell_type": "markdown",
   "metadata": {},
   "source": [
    "Når vi på forhånd vet hvor mange ganger en eller flere handlinger skal gjentas, bruker vi ei ***for*-løkke**. I adventskalendereksemplet er det to instruksjoner som gjentas i hver runde av løkka, nemlig både å åpne luken og å spise sjokoladen på innsiden, og dette gjøres totalt $24$ ganger.\n",
    "\n",
    "```python\n",
    "for [hver dag] in [advent]:\n",
    "    [åpne kalenderluken]\n",
    "    [spis sjokoladen]\n",
    "```\n",
    "\n",
    "Vi skal nå se på de ulike delene ei *for*-løkke består av:\n",
    "\n",
    "- Ordet `for`\n",
    "- En tellevariabel som oppdateres etter hvert som vi går gjennom løkka gjentatte ganger\n",
    "- Ordet `in`\n",
    "- En mengde, for eksempel en liste eller et intervall, som tellevariabelen skal gå gjennom\n",
    "- Koden som skal kjøres gjentatte ganger"
   ]
  },
  {
   "cell_type": "markdown",
   "metadata": {},
   "source": [
    "### *for*-løkker og lister"
   ]
  },
  {
   "cell_type": "markdown",
   "metadata": {},
   "source": [
    "Som nevnt over kan tellevariabelen i *for*-løkker gå gjennom enten lister eller intervaller, og vi skal begynne med å se på *for*-løkker som løkker seg gjennom lister:"
   ]
  },
  {
   "cell_type": "code",
   "execution_count": 1,
   "metadata": {},
   "outputs": [
    {
     "name": "stdout",
     "output_type": "stream",
     "text": [
      "rød\n",
      "gul\n",
      "blå\n"
     ]
    }
   ],
   "source": [
    "farger = ['rød', 'gul', 'blå']\n",
    "\n",
    "for farge in farger:\n",
    "    print(farge)"
   ]
  },
  {
   "cell_type": "markdown",
   "metadata": {},
   "source": [
    "Her lager vi først lista `farger` som vi skal løkke gjennom. Vi begynner alltid ei *for*-løkke med ordet `for`, og deretter har vi en tellevariabel. Denne variabelen har vi her kalt `farge` for å bruke et beskrivende navn, men vi kunne ha brukt et hvilket som helst annet variabelnavn. Tellevariabelen oppdateres for hver runde av *for*-løkka. Deretter skriver vi `in farger` for å fortelle programmet at det er listen `farger` vi skal løkke gjennom med variabelen `farge`. Etter et kolon, et linjeskift og et innrykk står koden som forteller hva som skal skje i hver runde, nemlig at `farge`-variabelen skal skrives ut.\n",
    "\n",
    "Vi skal nå trinnvis se på hva som skjer når vi kjører kodesnutten med løkka:\n",
    "\n",
    "- Listen `farger` lages (linje 1)\n",
    "- Første gjennomkjøring av *for*-løkka:\n",
    "    - Tellevariabelen `farge` har samme verdi som det første elementet i listen `farger`, altså `'rød'` (linje 3)\n",
    "    - kommandoen `print(farge)` gjør at `rød` skrives ut til skjermen (linje 4)\n",
    "- Andre gjennomkjøring av *for*-løkka:\n",
    "    - Tellevariabelen `farge` har samme verdi som det andre elementet i listen `farger`, altså `'gul'` (linje 3)\n",
    "    - kommandoen `print(farge)` gjør at `gul` skrives ut til skjermen (linje 4)\n",
    "- Tredje gjennomkjøring av *for*-løkka:\n",
    "    - Tellevariabelen `farge` har samme verdi som det tredje elementet i listen `farger`, altså `'blå'` (linje 3)\n",
    "    - kommandoen `print(farge)` gjør at `blå` skrives ut til skjermen (linje 4)\n",
    "- Det er ikke flere elementer igjen i `farger`, så vi er ferdige med *for*-løkka og programmet går videre.\n",
    "\n",
    "Som nevnt valgte vi å kalle iterasjonsvariabelen for `farge` fordi det er beskrivende, ettersom vi vet at det er ulike farger vi skal løkke gjennom. Det hadde imidlertid gått helt greit å kalle denne variabelen noe helt annet - akkurat det samme vil skrives ut til skjermen:"
   ]
  },
  {
   "cell_type": "code",
   "execution_count": 2,
   "metadata": {},
   "outputs": [
    {
     "name": "stdout",
     "output_type": "stream",
     "text": [
      "Med \"elementer\" som navn på tellevariabelen:\n",
      "rød\n",
      "gul\n",
      "blå\n",
      "\n",
      "Med \"i\" som navn på tellevariabelen:\n",
      "rød\n",
      "gul\n",
      "blå\n"
     ]
    }
   ],
   "source": [
    "farger = ['rød', 'gul', 'blå']\n",
    "\n",
    "print(\"Med \\\"elementer\\\" som navn på tellevariabelen:\")\n",
    "for elementer in farger:\n",
    "    print(elementer)\n",
    "\n",
    "print() # Her lager vi et linjeskift mellom de to utskriftene\n",
    "\n",
    "print(\"Med \\\"i\\\" som navn på tellevariabelen:\")\n",
    "for i in farger:\n",
    "    print(i)"
   ]
  },
  {
   "cell_type": "markdown",
   "metadata": {},
   "source": [
    "<div class=\"alert alert-block alert-info\">\n",
    "\n",
    "**Oppgave:** \n",
    "\n",
    "Vi har følgende liste: `tall = [1, 2, 3, 4]`\n",
    "Fullfør koden under for å lage et program som bruker ei *for*-løkke til å skrive ut den kvadrerte verdien til hvert av tallene i listen `tall`. Utskriften skal altså se slik ut:\n",
    "<p style=\"margin-left: 20px\"><font face=\"Courier New\">1 <br> 4 <br> 9 <br> 16</font></p>\n",
    "\n",
    "</div>"
   ]
  },
  {
   "cell_type": "code",
   "execution_count": null,
   "metadata": {},
   "outputs": [],
   "source": [
    "tall = [1, 2, 3, 4]\n",
    "\n",
    "for ??? in ???:\n",
    "    ???"
   ]
  },
  {
   "cell_type": "markdown",
   "metadata": {},
   "source": [
    ".\n",
    "\n",
    ".\n",
    "\n",
    ".\n",
    "\n",
    ".\n",
    "\n",
    ".\n",
    "\n",
    ".\n",
    "\n",
    ".\n",
    "\n",
    ".\n",
    "\n",
    ".\n",
    "\n",
    ".\n",
    "\n",
    ".\n",
    "\n",
    ".\n",
    "\n",
    ".\n",
    "\n",
    ".\n",
    "\n",
    ".\n",
    "\n",
    ".\n",
    "\n",
    ".\n",
    "\n",
    ".\n",
    "\n",
    ".\n",
    "\n",
    ".\n",
    "\n",
    "."
   ]
  },
  {
   "cell_type": "code",
   "execution_count": null,
   "metadata": {},
   "outputs": [],
   "source": [
    "tall = [1, 2, 3, 4]\n",
    "\n",
    "for t in tall:\n",
    "    print(t**2)"
   ]
  },
  {
   "cell_type": "markdown",
   "metadata": {},
   "source": [
    "### *for*-løkker og `range()`-funksjonen"
   ]
  },
  {
   "cell_type": "markdown",
   "metadata": {},
   "source": [
    "Vi har nå sett på hvordan vi kan kjøre gjennom liste ved hjelp av ei *for*-løkke, slik at tellevariabelen for hver gjennomgang av løkka får samme verdi som det neste elementet i listen. Vi kan også lage løkker der tellevariabelen for hver runde får samme verdi som det neste tallet i ei tallrekke. Til dette trenger vi Pythons `range()`-funksjon.\n",
    "\n",
    "Funksjonen `range()` returnerer en tallrekke, og kan ta ett til tre input-argumenter. Syntaksen til funksjonen er `range(start, stop, step)`:\n",
    "\n",
    "- `start`: **Valgfritt** å definere. Tallrekken begynner på dette tallet. Den pre-definerte verdien er 0.\n",
    "- `stop`: **Nødvendig** å definere. Tallrekken går til, **men ikke med**, dette tallet.\n",
    "- `step`: **Valgfritt** å definere. Dette er \"steglengden\" til tallrekken, og bestemmer hvor mange heltall det er mellom hvert av tallene i tallrekken. Den pre-definerte verdien er 1.\n",
    "\n",
    "Under ser du ei *for*-løkke som skriver ut tallverdier ved hjelp av `range()`-funksjonen. Prøv å bytte ut tallene inni `range()`-parentesen, og se hva som blir skrevet ut når du har ett, to eller tre input-argumenter. Hva skjer hvis du har mer enn tre argumenter? Hva skjer hvis du bruker flyttall? Prøv å forutse hvordan utskriften vil se ut før du kjører koden."
   ]
  },
  {
   "cell_type": "code",
   "execution_count": 3,
   "metadata": {},
   "outputs": [
    {
     "name": "stdout",
     "output_type": "stream",
     "text": [
      "0\n",
      "1\n",
      "2\n",
      "3\n"
     ]
    }
   ],
   "source": [
    "for i in range(4):\n",
    "    print(i)"
   ]
  },
  {
   "cell_type": "markdown",
   "metadata": {},
   "source": [
    "Vi skal nå trinnvis se på hva som skjer når vi kjører kodesnutten over:\n",
    "\n",
    "- Første gjennomkjøring av *for*-løkka:\n",
    "    - Tellevariabelen `i` har verdien `0`, som er den pre-definerte start-verdien til `range()`-funksjonen (linje 1)\n",
    "    - kommandoen `print(i)` gjør at `0` skrives ut til skjermen (linje 2)\n",
    "- Andre gjennomkjøring av *for*-løkka:\n",
    "    - Tellevariabelen `i` har verdien `1`, fordi den pre-definerte steglengden til `range()`-funksjonen er 1 (linje 1)\n",
    "    - kommandoen `print(i)` gjør at `1` skrives ut til skjermen (linje 2)\n",
    "- Tredje gjennomkjøring av *for*-løkka:\n",
    "    - Tellevariabelen `i` har verdien `2` (linje 1)\n",
    "    - kommandoen `print(i)` gjør at `2` skrives ut til skjermen (linje 2)\n",
    "- Fjerde gjennomkjøring av *for*-løkka:\n",
    "    - Tellevariabelen `i` har verdien `3` (linje 1)\n",
    "    - kommandoen `print(i)` gjør at `3` skrives ut til skjermen (linje 2)\n",
    "- Siden steglengden er 1 ville den neste verdien til tellevariabelen `i` blitt 4. Dette er stoppverdien til `range(4)`, så vi er ferdige med *for*-løkka og programmet går videre."
   ]
  },
  {
   "cell_type": "markdown",
   "metadata": {},
   "source": [
    "<div class=\"alert alert-block alert-success\">\n",
    "\n",
    "**Tips:**\n",
    "\n",
    "`range()`-funksjonen kan ta ett til tre input-argumenter:\n",
    "\n",
    "- Hvis du kun bruker ett input-argument blir dette stoppverdien til funksjonen.\n",
    "    - Hvis du for eksempel skriver `range(5)` vil dette gi tallrekken som går **fra og med** 0 og **til men ikke med** 5, altså `0, 1, 2, 3, 4`\n",
    "- Hvis du bruker to input-argumenter, blir det første startverdien til funksjonen, og det andre blir stoppverdien. \n",
    "    - Å skrive `range(1, 6)` vil gi tallrekken `1, 2, 3, 4, 5`\n",
    "- Hvis du bruker tre input-argumenter, blir det første startverdien til funksjonen, det andre blir stoppverdien og det tredje blir steglengden. \n",
    "    - Å skrive `range(2, 9, 2)` vil gi alle partallene fra og med 2 til og med 8, altså `2, 4, 6, 8`\n",
    "    - Hvis vi vil ha alle partallene fra og med 0 til og med 8 holder det altså ikke å skrive `range(9, 2)` selv om den predefinerte startverdien til `range()`-funksjonen er 0. Siden det bare er to input-argumenter bruker programmet 9 som startverdi og 2 som stoppverdi, og forstår altså `range(9, 2)`som \"alle heltallene fra 9 til 2\". Du må i stedet skrive `range(0, 9, 2)`.\n",
    "    - `step`-verdien kan være negativ, og da vil `range()`-funksjonen returnere tall som blir trinnvis lavere i stedet for høyere. For eksempel vil `range(9, 2, -2)` gi tallrekken `9, 7, 5, 3`.\n",
    "\n",
    "</div>"
   ]
  },
  {
   "cell_type": "markdown",
   "metadata": {},
   "source": [
    "Vi kan også bruke ei *for*-løkke og `range()`-funksjonen til å gjøre den samme operasjonen flere ganger:"
   ]
  },
  {
   "cell_type": "code",
   "execution_count": 4,
   "metadata": {},
   "outputs": [
    {
     "name": "stdout",
     "output_type": "stream",
     "text": [
      "Hallo\n",
      "Hallo\n",
      "Hallo\n"
     ]
    }
   ],
   "source": [
    "for i in range(3):\n",
    "    print(\"Hallo\")"
   ]
  },
  {
   "cell_type": "markdown",
   "metadata": {},
   "source": [
    "<div class=\"alert alert-block alert-info\">\n",
    "\n",
    "**Oppgave:**\n",
    "\n",
    "I forrige oppgave fikk du utskriften\n",
    "<p style=\"margin-left: 20px\"><font face=\"Courier New\">1 <br> 4 <br> 9 <br> 16</font></p>\n",
    "\n",
    "ved å løkke gjennom listen `tall = [1, 2, 3, 4]`.\n",
    "\n",
    "Nå skal du forsøke å lage den samme utskriften, men ved hjelp av `range()`-funksjonen i stedet for listen `tall`.\n",
    "\n",
    "</div>"
   ]
  },
  {
   "cell_type": "code",
   "execution_count": null,
   "metadata": {},
   "outputs": [],
   "source": [
    "for ??? in range(???):\n",
    "    ???"
   ]
  },
  {
   "cell_type": "markdown",
   "metadata": {},
   "source": [
    ".\n",
    "\n",
    ".\n",
    "\n",
    ".\n",
    "\n",
    ".\n",
    "\n",
    ".\n",
    "\n",
    ".\n",
    "\n",
    ".\n",
    "\n",
    ".\n",
    "\n",
    ".\n",
    "\n",
    ".\n",
    "\n",
    ".\n",
    "\n",
    ".\n",
    "\n",
    ".\n",
    "\n",
    ".\n",
    "\n",
    ".\n",
    "\n",
    ".\n",
    "\n",
    ".\n",
    "\n",
    ".\n",
    "\n",
    ".\n",
    "\n",
    ".\n",
    "\n",
    "."
   ]
  },
  {
   "cell_type": "code",
   "execution_count": null,
   "metadata": {},
   "outputs": [],
   "source": [
    "for i in range(1, 5):\n",
    "    print(i**2)"
   ]
  },
  {
   "cell_type": "markdown",
   "metadata": {},
   "source": [
    "<div class=\"alert alert-block alert-info\">\n",
    "\n",
    "**Oppgave:**\n",
    "\n",
    "Fullfør koden under for å lage et program som ber om et heltall som input fra brukeren og finner alle faktorene/divisorene til tallet, lagrer dem i en liste, og til slutt skriver listen ut på skjermen.\n",
    "\n",
    "</div>"
   ]
  },
  {
   "cell_type": "code",
   "execution_count": null,
   "metadata": {},
   "outputs": [],
   "source": [
    "tall = ???\n",
    "divisorer = []  # Oppretter en tom liste som divisorene kan lagres i.\n",
    "\n",
    "for ??? in ???:\n",
    "    ???\n",
    "        \n",
    "print(\"Divisorene til\", tall, \"er:\", divisorer)"
   ]
  },
  {
   "cell_type": "markdown",
   "metadata": {},
   "source": [
    ".\n",
    "\n",
    ".\n",
    "\n",
    ".\n",
    "\n",
    ".\n",
    "\n",
    ".\n",
    "\n",
    ".\n",
    "\n",
    ".\n",
    "\n",
    ".\n",
    "\n",
    ".\n",
    "\n",
    ".\n",
    "\n",
    ".\n",
    "\n",
    ".\n",
    "\n",
    ".\n",
    "\n",
    ".\n",
    "\n",
    ".\n",
    "\n",
    ".\n",
    "\n",
    ".\n",
    "\n",
    ".\n",
    "\n",
    ".\n",
    "\n",
    ".\n",
    "\n",
    "."
   ]
  },
  {
   "cell_type": "code",
   "execution_count": null,
   "metadata": {
    "scrolled": true
   },
   "outputs": [],
   "source": [
    "tall = int(input(\"Skriv et positivt heltall du ønsker å finne divisorene til: \"))\n",
    "divisorer = []  # Oppretter en tom liste som divisorene kan lagres i\n",
    "\n",
    "for i in range(1, tall+1):   # Vi lar range()-funksjonen starte på 1 fordi man ikke kan dele på 0\n",
    "    if tall % i == 0:        # Bruker modulus-operatoren for å sjekke om vi får ut et heltall når vi deler tallet på i\n",
    "        divisorer.append(i)  # Lagrer divisoren\n",
    "        \n",
    "print(\"Divisorene til\", tall, \"er:\", divisorer)"
   ]
  },
  {
   "cell_type": "markdown",
   "metadata": {},
   "source": [
    "## *while*-løkker"
   ]
  },
  {
   "cell_type": "markdown",
   "metadata": {},
   "source": [
    "Hvis vi ikke vet hvor mange ganger vi vil gjenta en operasjon, bruker vi ei ***while*-løkke**. Med ei *while*-løkke gjentar vi operasjonen helt til vi når et bestemt mål.\n",
    "\n",
    "Ei *while*-løkke består av ordet `while` etterfulgt av et logisk utsagn, altså noe som enten er`True` eller `False`. På neste linje står det som skal gjøres helt til det logiske utsagnet blir usant. Dette kan vises slik.\n",
    "\n",
    "```python\n",
    "while [et logisk utsagn er sant]:\n",
    "    [gjør operasjon]\n",
    "```\n",
    "\n",
    "For å gå tilbake til eksempelet innledningsvis, altså skjerfstrikkingen, har vi tilsvarende:\n",
    "\n",
    "```python\n",
    "while [skjerfets lengde] < [ønsket lengde]:\n",
    "    [strikk en rad til]\n",
    "```\n",
    "\n",
    "Det logiske utsagnet er her at `skjerfets lengde < ønsket lengde`. Så lenge det er sant, fortsetter *while*-løkka å kjøre. Så snart `skjerfets lengde` blir lik eller større enn `ønsket lengde` er *while*-løkka ferdig, og kjører ikke mer.\n",
    "\n",
    "Ei *while*-løkke kan for eksempel se slik ut:"
   ]
  },
  {
   "cell_type": "code",
   "execution_count": 5,
   "metadata": {},
   "outputs": [
    {
     "name": "stdout",
     "output_type": "stream",
     "text": [
      "0\n",
      "1\n",
      "2\n",
      "3\n"
     ]
    }
   ],
   "source": [
    "tellevariabel = 0\n",
    "\n",
    "while tellevariabel < 4:\n",
    "    print(tellevariabel)\n",
    "    tellevariabel = tellevariabel + 1"
   ]
  },
  {
   "cell_type": "markdown",
   "metadata": {},
   "source": [
    "Rekkefølgen på operasjonene i *while*-løkka er avgjørende for hva du får som output. Koden under er den samme som over, bare at vi har byttet om på linje 4 og 5. Tenk gjennom hvordan outputen vil være annerledes **før** du kjører den:"
   ]
  },
  {
   "cell_type": "code",
   "execution_count": null,
   "metadata": {
    "scrolled": false
   },
   "outputs": [],
   "source": [
    "tellevariabel = 0\n",
    "\n",
    "while tellevariabel < 4:\n",
    "    tellevariabel = tellevariabel + 1\n",
    "    print(tellevariabel)"
   ]
  },
  {
   "cell_type": "markdown",
   "metadata": {},
   "source": [
    "<div class=\"alert alert-block alert-danger\">\n",
    "\n",
    "**Pass på!**\n",
    "\n",
    "Siden *while*-løkka fortsetter å kjøre helt til det logiske utsagnet etter `while` blir usant, er det veldig viktig at operasjonen som gjentas i løkka påvirker sannhetsverdien til dette utsagnet. Vi kan for eksempel se for oss at vi har følgende *while*-løkke:\n",
    "\n",
    "<p style=\"margin-left: 40px\"><font face=\"Courier New\">tellevariabel = 1</font></p>\n",
    "<p style=\"margin-left: 40px\"><font face=\"Courier New\"><b>while</b> tellevariabel < 5:</font></p>\n",
    "<p style=\"margin-left: 70px\"><font face=\"Courier New\">print(tellevariabel)</font></p>\n",
    "\n",
    "Her oppdateres ikke tellevariabelen `tellevariabel`, så *while*-løkka vil aldri stoppe opp. Den vil derimot bare fortsette å skrive ut tallet `1`, altså verdien til variabelen `tellevariabel`, i det uendelige, eller til vi avbryter programmet. Husk derfor på at den sorte firkanten øverst på siden (til høyre for \"Run\"-knappen) kan brukes til å avslutte et program. Det kan være programmet bruker en stund på å avslutte, så det beste er å ikke sette i gang evige løkker.\n",
    "\n",
    "</div>"
   ]
  },
  {
   "cell_type": "markdown",
   "metadata": {},
   "source": [
    "<div class=\"alert alert-block alert-info\">\n",
    "\n",
    "**Oppgave:**\n",
    "\n",
    "I oppgavene under *for*-løkker har du fått utskriften\n",
    "<p style=\"margin-left: 20px\"><font face=\"Courier New\">1 <br> 4 <br> 9 <br> 16</font></p>\n",
    "\n",
    "ved å bruke først en liste og så `range()`-funksjonen. Lag et program som bruker ei *while*-løkke til å gi den samme utskriften.\n",
    "\n",
    "</div>"
   ]
  },
  {
   "cell_type": "code",
   "execution_count": null,
   "metadata": {},
   "outputs": [],
   "source": [
    "i = ???\n",
    "\n",
    "while i ???:\n",
    "    ???"
   ]
  },
  {
   "cell_type": "markdown",
   "metadata": {},
   "source": [
    ".\n",
    "\n",
    ".\n",
    "\n",
    ".\n",
    "\n",
    ".\n",
    "\n",
    ".\n",
    "\n",
    ".\n",
    "\n",
    ".\n",
    "\n",
    ".\n",
    "\n",
    ".\n",
    "\n",
    ".\n",
    "\n",
    ".\n",
    "\n",
    ".\n",
    "\n",
    ".\n",
    "\n",
    ".\n",
    "\n",
    ".\n",
    "\n",
    ".\n",
    "\n",
    ".\n",
    "\n",
    ".\n",
    "\n",
    ".\n",
    "\n",
    ".\n",
    "\n",
    "."
   ]
  },
  {
   "cell_type": "code",
   "execution_count": null,
   "metadata": {
    "scrolled": true
   },
   "outputs": [],
   "source": [
    "i = 1\n",
    "\n",
    "while i < 5:\n",
    "    print(i**2)\n",
    "    i = i + 1\n",
    "\n",
    "# Det er også mulig å løse dette på mange andre måter, for eksempel:\n",
    "# i = 0\n",
    "# while i < 4:\n",
    "#     i = i + 1\n",
    "#     print(i**2)"
   ]
  },
  {
   "cell_type": "markdown",
   "metadata": {},
   "source": [
    "<div class=\"alert alert-block alert-info\">\n",
    "\n",
    "<b>Oppgave:</b> \n",
    "\n",
    "1. Fullfør koden under for å lage et program som først ber brukeren om to heltall, for så å gange dem sammen.\n",
    "2. Programmet skal deretter be brukeren om å gjette på hva produktet av de to tallene er, og lagre svaret som variabelen `gjett`.\n",
    "3. Så lenge brukeren gjetter feil, skal programmet oppdatere `gjett`-variabelen til å bli brukerens nye gjett.\n",
    "4. Når brukeren gjetter riktig skal programmet skrive ut en beskjed som forteller dette.\n",
    "\n",
    "</div>"
   ]
  },
  {
   "cell_type": "code",
   "execution_count": null,
   "metadata": {},
   "outputs": [],
   "source": [
    "tall_1 = ???\n",
    "tall_2 = ???\n",
    "produkt = tall_1 * tall_2\n",
    "\n",
    "gjett = ???\n",
    "\n",
    "while gjett ???:\n",
    "    ???\n",
    "\n",
    "print(\"Helt riktig, produktet blir\", produkt)"
   ]
  },
  {
   "cell_type": "markdown",
   "metadata": {},
   "source": [
    ".\n",
    "\n",
    ".\n",
    "\n",
    ".\n",
    "\n",
    ".\n",
    "\n",
    ".\n",
    "\n",
    ".\n",
    "\n",
    ".\n",
    "\n",
    ".\n",
    "\n",
    ".\n",
    "\n",
    ".\n",
    "\n",
    ".\n",
    "\n",
    ".\n",
    "\n",
    ".\n",
    "\n",
    ".\n",
    "\n",
    ".\n",
    "\n",
    ".\n",
    "\n",
    ".\n",
    "\n",
    ".\n",
    "\n",
    ".\n",
    "\n",
    ".\n",
    "\n",
    "."
   ]
  },
  {
   "cell_type": "code",
   "execution_count": null,
   "metadata": {},
   "outputs": [],
   "source": [
    "tall_1 = int(input(\"Hva er det første heltallet? \"))\n",
    "tall_2 = int(input(\"Hva er det andre heltallet?\"))\n",
    "produkt = tall_1 * tall_2\n",
    "\n",
    "gjett = int(input(\"Hva tror du produktet er? \"))\n",
    "\n",
    "while gjett != produkt:     # Løkka vil kjøre helt til gjettet er det samme som det sanne produktet\n",
    "    gjett = int(input(\"Feil, prøv igjen: \"))    # Variabelen gjett oppdateres med en ny input\n",
    "    \n",
    "print(\"Helt riktig, produktet blir\", produkt)   # Siden vi ikke går ut av løkka før gjettet er det samme som produktet,\n",
    "                                                # skrives ikke denne linja ut før vi har gjettet riktig"
   ]
  },
  {
   "cell_type": "markdown",
   "metadata": {},
   "source": [
    "[Til toppen](#Løkker)"
   ]
  }
 ],
 "metadata": {
  "kernelspec": {
   "display_name": "Python 3",
   "language": "python",
   "name": "python3"
  },
  "language_info": {
   "codemirror_mode": {
    "name": "ipython",
    "version": 3
   },
   "file_extension": ".py",
   "mimetype": "text/x-python",
   "name": "python",
   "nbconvert_exporter": "python",
   "pygments_lexer": "ipython3",
   "version": "3.7.0"
  }
 },
 "nbformat": 4,
 "nbformat_minor": 2
}

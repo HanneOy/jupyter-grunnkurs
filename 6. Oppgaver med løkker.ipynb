{
 "cells": [
  {
   "cell_type": "markdown",
   "metadata": {},
   "source": [
    "# Oppgaver med løkker"
   ]
  },
  {
   "cell_type": "markdown",
   "metadata": {},
   "source": [
    "**Oppgaver med løkker**\n",
    "- [Oppgave 1](#Oppgave-1)\n",
    "- [Oppgave 2](#Oppgave-2)\n",
    "- [Oppgave 3](#Oppgave-3)\n",
    "- [Oppgave 4](#Oppgave-4)\n",
    "- [Oppgave 5](#Oppgave-5)\n",
    "\n",
    "**Oppgaver med løkker og *if*-tester**\n",
    "- [Oppgave 6](#Oppgave-6)\n",
    "- [Oppgave 7](#Oppgave-7)\n",
    "- [Oppgave 8](#Oppgave-8)\n",
    "- [Oppgave 9](#Oppgave-9)\n",
    "- [Oppgave 10](#Oppgave-10)\n",
    "\n",
    "**[Løsningsforslag](#Løsningsforslag)**"
   ]
  },
  {
   "cell_type": "markdown",
   "metadata": {},
   "source": [
    "### Oppgave 1"
   ]
  },
  {
   "cell_type": "markdown",
   "metadata": {},
   "source": [
    "<div class=\"alert alert-block alert-info\">\n",
    "\n",
    "1. Bruk ei *for*-løkke og `range()`-funksjonen til å lage et program som kan regne ut summen av kvadratene til de $10$ første heltallene, altså $$\\sum_{i=1}^{10} i^2 = 1^2 + 2^2 + ... + 10^2$$\n",
    "    - Tips: Husk at du kan oppdatere verdiene til variabler. Hvis du for eksempel har en variabel `a` og vil øke verdien dens med 1, kan du skrive `a = a + 1`.\n",
    "\n",
    "\n",
    "2. Gjør det samme med ei *while*-løkke.\n",
    "    - Husk å oppdatere tellevariabelen, slik at du ikke får ei uendelig løkke! Du ser om programmet ditt står og jobber ved å se på rundingen oppe til høyre for der det står \"Python 3\" på siden. Hvis den er sort, betyr det at den står og jobber, og da kan du avbryte operasjonen ved å trykke på \"Kernel -> Interrupt\" eller \"Kernel -> Restart\"\n",
    "    \n",
    "\n",
    "3. Utvid programmet til å be brukeren om å gi verdien til $n$ som input, for så å regne ut $$\\sum_{i=1}^{n} i^2 = 1^2 + 2^2 + ... + n^2$$. Du velger selv om du vil gjøre dette med *for*- eller *while*-løkke. \n",
    "\n",
    "</div>"
   ]
  },
  {
   "cell_type": "code",
   "execution_count": null,
   "metadata": {
    "scrolled": true
   },
   "outputs": [],
   "source": [
    "# Oppgave 1.1\n",
    "\n",
    "summen = 0\n",
    "\n",
    "for i in range(???):\n",
    "    ???\n",
    "\n",
    "print(\"Summen av kvadratet til de ti første heltallene er\", summen)"
   ]
  },
  {
   "cell_type": "code",
   "execution_count": null,
   "metadata": {},
   "outputs": [],
   "source": [
    "# Oppgave 1.2\n",
    "\n",
    "summen = 0\n",
    "j = 0\n",
    "\n",
    "while j < ???:\n",
    "    ???\n",
    "\n",
    "print(\"Summen av kvadratet til de ti første heltallene er\", summen)"
   ]
  },
  {
   "cell_type": "code",
   "execution_count": null,
   "metadata": {},
   "outputs": [],
   "source": [
    "# Oppgave 1.3\n",
    "\n",
    "n = ???\n",
    "summen = 0\n",
    "\n",
    "# Skriv resten av koden din her:\n",
    "\n"
   ]
  },
  {
   "cell_type": "markdown",
   "metadata": {},
   "source": [
    "[Løsningsforslag](#Oppgave-1---løsningsforslag)"
   ]
  },
  {
   "cell_type": "markdown",
   "metadata": {},
   "source": [
    "### Oppgave 2"
   ]
  },
  {
   "cell_type": "markdown",
   "metadata": {},
   "source": [
    "<div class=\"alert alert-block alert-info\">\n",
    "\n",
    "I kodeboksen under ser du funksjonen `sum()`, som regner ut summen av alle elementene i en liste. Bruk ei *for*-løkke til å gjøre det samme som `sum()`-funksjonen.\n",
    "\n",
    "</div>"
   ]
  },
  {
   "cell_type": "code",
   "execution_count": 1,
   "metadata": {},
   "outputs": [
    {
     "name": "stdout",
     "output_type": "stream",
     "text": [
      "Summen av elementene i listen er 83\n"
     ]
    }
   ],
   "source": [
    "tall = [2, 63, -14, 9, 23]\n",
    "\n",
    "print(\"Summen av elementene i listen er\", sum(tall))"
   ]
  },
  {
   "cell_type": "code",
   "execution_count": null,
   "metadata": {},
   "outputs": [],
   "source": [
    "tall = [2, 63, -14, 9, 23]\n",
    "\n",
    "summen = ???\n",
    "\n",
    "for i in ???:\n",
    "    ???\n",
    "\n",
    "print(\"Summen av elementene i listen er\", summen)"
   ]
  },
  {
   "cell_type": "markdown",
   "metadata": {},
   "source": [
    "[Løsningsforslag](#Oppgave-2---løsningsforslag)"
   ]
  },
  {
   "cell_type": "markdown",
   "metadata": {},
   "source": [
    "### Oppgave 3"
   ]
  },
  {
   "cell_type": "markdown",
   "metadata": {},
   "source": [
    "<div class=\"alert alert-block alert-info\">\n",
    "\n",
    "Bruk ei *while*-løkke til å finne alle Fibonacci-tallene som er mindre enn $10000$, og lagrer dem i en liste. I en Fibonacci-rekke er hvert tall i rekken summen av de to foregående tallene. De to første tallene har verdien $1$. \n",
    "De syv første Fibonacci-tallene er: $1, 1, 2, 3, 5, 8, 13$.\n",
    "\n",
    "</div>"
   ]
  },
  {
   "cell_type": "code",
   "execution_count": null,
   "metadata": {},
   "outputs": [],
   "source": [
    "fib = [1, 1]\n",
    "\n",
    "while ???:\n",
    "    ???\n",
    "\n",
    "print(fib)"
   ]
  },
  {
   "cell_type": "markdown",
   "metadata": {},
   "source": [
    "[Løsningsforslag](#Oppgave-3---løsningsforslag)"
   ]
  },
  {
   "cell_type": "markdown",
   "metadata": {},
   "source": [
    "### Oppgave 4"
   ]
  },
  {
   "cell_type": "markdown",
   "metadata": {},
   "source": [
    "<div class=\"alert alert-block alert-info\">\n",
    "\n",
    "Fullfør koden under for å lage et program som regner ut gjennomsnitt av tall. Programmet skal først la brukeren bestemme hvor mange tall som skal gis som input. Deretter skal programmet be brukeren om å oppgi disse tallene som input én etter én, før gjennomsnittet av dem regnes ut og returneres.\n",
    "\n",
    "**Hint**: Man kan ha variabler som bestemmes ved input inni ei løkke.\n",
    "\n",
    "</div>"
   ]
  },
  {
   "cell_type": "code",
   "execution_count": null,
   "metadata": {},
   "outputs": [],
   "source": [
    "# Gjennomsnitt av x antall tall gitt fra brukeren\n",
    "\n",
    "antall = int(input(\"Hvor mange tall skal det regnes gjennomsnitt av? \"))\n",
    "summen = 0\n",
    "\n",
    "for i in ???:\n",
    "    ???\n",
    "\n",
    "print(\"Gjennomsnittet er\", round(summen/antall, 2))   # round()-funksjonen runder av til et gitt antall desimaler"
   ]
  },
  {
   "cell_type": "markdown",
   "metadata": {},
   "source": [
    "[Løsningsforslag](#Oppgave-4---løsningsforslag)"
   ]
  },
  {
   "cell_type": "markdown",
   "metadata": {},
   "source": [
    "### Oppgave 5"
   ]
  },
  {
   "cell_type": "markdown",
   "metadata": {},
   "source": [
    "<div class=\"alert alert-block alert-info\">\n",
    "\n",
    "Lag et program som tar listene `a = [1, 2, 3, 4]`, `b = [5, 6, 7, 8]` og `c = [2, 1, 4, 3]` og som printer ut en ny liste `d` som er summen av tallene for hver indeks.\n",
    "\n",
    "</div>"
   ]
  },
  {
   "cell_type": "code",
   "execution_count": null,
   "metadata": {},
   "outputs": [],
   "source": [
    "a = [1, 2, 3, 4]\n",
    "b = [5, 6, 7, 8]\n",
    "c = [2, 1, 4 ,3]\n",
    "\n",
    "d = []    # Ny liste som skal inneholde summene\n",
    "\n",
    "for i in ???:\n",
    "    ???\n",
    "    \n",
    "print(d)"
   ]
  },
  {
   "cell_type": "markdown",
   "metadata": {},
   "source": [
    "[Løsningsforslag](#Oppgave-5---løsningsforslag)\n",
    "\n",
    "[Til toppen](#Oppgaver-med-løkker)"
   ]
  },
  {
   "cell_type": "markdown",
   "metadata": {},
   "source": [
    "## Oppgaver med løkker og *if*-tester"
   ]
  },
  {
   "cell_type": "markdown",
   "metadata": {},
   "source": [
    "<div class=\"alert alert-block alert-success\">\n",
    "\n",
    "**Tips:**\n",
    "\n",
    "Vi har nå sett på både <i>if</i>-tester og løkker, og ved å kombinere disse to operasjonene kan vi gjennomføre tester flere ganger. Hvis vi for eksempel har en liste `tall = [1, 5, 2, 30, 12, 7, 18, 4, 2, 6]` og ønsker å skrive ut alle tallene i den som er delelige med $3$, kan vi skrive koden:\n",
    "\n",
    "<p style=\"margin-left: 20px\"><font face=\"Courier New\"> tall = [1, 5, 2, 30, 12, 7, 18, 4, 6] </font></p>\n",
    "<p style=\"margin-left: 20px\"><font face=\"Courier New\"> <b>for</b> i <b>in</b> tall:</font></p>\n",
    "<p style=\"margin-left: 50px\"><font face=\"Courier New\"> <b>if</b> i % 3 == 0:</font></p>\n",
    "<p style=\"margin-left: 80px\"><font face=\"Courier New\"> print(i)</font></p>\n",
    "\n",
    "Her bruker vi altså modulusoperatoren `%` for å undersøke om hvert av tallene i lista `tall` er delelig med $3$, og hvis det er det skrives tallet ut til skjermen. Utskriften vil da se slik ut:\n",
    "<p style=\"margin-left: 20px\"><font face=\"Courier New\">30 <br> 12 <br> 18 <br> 6</font></p>\n",
    "\n",
    "Dette kan du også se ved å kjøre koden under:\n",
    "\n",
    "</div>"
   ]
  },
  {
   "cell_type": "code",
   "execution_count": 2,
   "metadata": {},
   "outputs": [
    {
     "name": "stdout",
     "output_type": "stream",
     "text": [
      "30\n",
      "12\n",
      "18\n",
      "6\n"
     ]
    }
   ],
   "source": [
    "tall = [1, 5, 2, 30, 12, 7, 18, 4, 6]\n",
    "\n",
    "for i in tall:\n",
    "    if i % 3 == 0:\n",
    "        print(i)"
   ]
  },
  {
   "cell_type": "markdown",
   "metadata": {},
   "source": [
    "### Oppgave 6"
   ]
  },
  {
   "cell_type": "markdown",
   "metadata": {},
   "source": [
    "<div class=\"alert alert-block alert-info\">\n",
    "\n",
    "I kodeboksen under ser du funksjonen `max()`, som går gjennom alle elementene i en liste og returnerer den største av dem. Bruk en *for*-løkke og en *if*-test til å gjøre det samme som `max()`-funksjonen.\n",
    "\n",
    "</div>"
   ]
  },
  {
   "cell_type": "code",
   "execution_count": 3,
   "metadata": {},
   "outputs": [
    {
     "name": "stdout",
     "output_type": "stream",
     "text": [
      "Det største elementet i listen er 63\n"
     ]
    }
   ],
   "source": [
    "tall = [2, 63, -14, 9, 23]\n",
    "\n",
    "print(\"Det største elementet i listen er\", max(tall))"
   ]
  },
  {
   "cell_type": "code",
   "execution_count": null,
   "metadata": {},
   "outputs": [],
   "source": [
    "tall = [2, 63, -14, 9, 23]\n",
    "\n",
    "størst_tall = 0\n",
    "\n",
    "for i in ???:\n",
    "    if ???:\n",
    "        ???\n",
    "\n",
    "print(\"Det største elementet i listen er\", størst_tall)"
   ]
  },
  {
   "cell_type": "markdown",
   "metadata": {},
   "source": [
    "[Løsningsforslag](#Oppgave-6---løsningsforslag)"
   ]
  },
  {
   "cell_type": "markdown",
   "metadata": {},
   "source": [
    "### Oppgave 7"
   ]
  },
  {
   "cell_type": "markdown",
   "metadata": {},
   "source": [
    "<div class=\"alert alert-block alert-info\">\n",
    "\n",
    "I Jupyter Notebooken om løkker fikk du i oppgave å lage et program som skulle be om et heltall som input fra brukeren og finne alle faktorene/divisorene til tallet, lagre dem i en liste, og til slutt skrive lista ut på skjermen. Koden under er den samme, bortsett fra at tallet selv ikke lagres som en divisor (stoppverdien til `range()`-funksjonen har blitt endret fra `tall+1` til `tall`).\n",
    "\n",
    "Utvid dette programmet til å også sjekke om input-tallet er et perfekt tall eller ikke. Et perfekt tall er et tall som er like stort som summen av alle faktorene sine. For eksempel er $6$ et perfekt tall, siden divisorene til $6$ er $1$, $2$ og $3$, og $6 = 1 + 2 + 3$.\n",
    "\n",
    "**Tips**: Hvis `liste` er en liste med tall, vil `sum(liste)` returnere summen av alle elementene i `liste`.\n",
    "\n",
    "</div>"
   ]
  },
  {
   "cell_type": "code",
   "execution_count": null,
   "metadata": {},
   "outputs": [],
   "source": [
    "tall = int(input(\"Skriv et positivt heltall du ønsker å finne divisorene til: \"))\n",
    "\n",
    "divisorer = []  # Oppretter en tom liste som divisorene kan lagres i.\n",
    "\n",
    "for i in range(1, tall):     # Vi lar range()-funksjonen starte på 1 fordi man ikke kan dele på 0\n",
    "    if tall % i == 0:        # Bruker modulus-operatoren for å sjekke om vi får ut et heltall når vi deler tallet på i\n",
    "        divisorer.append(i)  # Lagrer divisoren\n",
    "        \n",
    "print(\"Divisorene til\", tall, \"er:\", divisorer)\n",
    "\n",
    "# Skriv resten av programmet ditt her:\n",
    "\n"
   ]
  },
  {
   "cell_type": "markdown",
   "metadata": {},
   "source": [
    "[Løsningsforslag](#Oppgave-7---løsningsforslag)"
   ]
  },
  {
   "cell_type": "markdown",
   "metadata": {},
   "source": [
    "### Oppgave 8"
   ]
  },
  {
   "cell_type": "markdown",
   "metadata": {},
   "source": [
    "<div class=\"alert alert-block alert-info\">\n",
    "\n",
    "Du skal lage et program som finner alle heltall større enn null som er delelige med `divisor` opp til en grense `grense`, og lagrer dem i en liste. Hvis for eksempel divisoren er $4$ og den øvre grensen er $16$, $17$, $18$ eller $19$, skal listen lagre tallene `[4, 8, 12, 16]`.\n",
    "\n",
    "Programmet skal først be brukeren om verdier for `grense` og `divisor` som input. Bruk en *for*-løkke til å lagre alle tallene opp til `grense` som er delelige med `divisor`, og lagrer dem i en liste. Til slutt skal denne listen skrives ut til skjermen.\n",
    "\n",
    "</div>"
   ]
  },
  {
   "cell_type": "code",
   "execution_count": null,
   "metadata": {
    "scrolled": true
   },
   "outputs": [],
   "source": [
    "divisor = int(input(\"Hvilken divisor vil du finne tall som er delelige med? \"))\n",
    "grense = int(input(\"Hva skal være den øvre grensen for disse tallene? \"))\n",
    "\n",
    "delelig = []    # Oppretter en tom liste som divisorene kan lagres i.\n",
    "\n",
    "# Skriv resten av programmet ditt her:\n",
    "\n"
   ]
  },
  {
   "cell_type": "markdown",
   "metadata": {},
   "source": [
    "[Løsningsforslag](#Oppgave-8---løsningsforslag)"
   ]
  },
  {
   "cell_type": "markdown",
   "metadata": {},
   "source": [
    "### Oppgave 9"
   ]
  },
  {
   "cell_type": "markdown",
   "metadata": {},
   "source": [
    "<div class=\"alert alert-block alert-info\">\n",
    "\n",
    "1. Du skal lage et program som samler de elementene som både er i liste `a` og liste `b` i en ny liste `c`.\n",
    "\n",
    "\n",
    "2. Utvid koden til å gjøre slik at det ikke er noen duplikater i `c`, altså at alle elementene i `c` er unike.\n",
    "\n",
    "</div>"
   ]
  },
  {
   "cell_type": "code",
   "execution_count": null,
   "metadata": {},
   "outputs": [],
   "source": [
    "a = [1, 1, 2, 3, 5, 8, 13, 21, 34, 55, 89]\n",
    "b = [1, 2, 3, 4, 5, 6, 7, 8, 9, 10, 11, 12, 13]\n",
    "c = []\n",
    "\n",
    "for i in ???:\n",
    "    if i in ???:\n",
    "        ???\n",
    "\n",
    "print(c)"
   ]
  },
  {
   "cell_type": "markdown",
   "metadata": {},
   "source": [
    "[Løsningsforslag](#Oppgave-9---løsningsforslag)"
   ]
  },
  {
   "cell_type": "markdown",
   "metadata": {},
   "source": [
    "### Oppgave 10"
   ]
  },
  {
   "cell_type": "markdown",
   "metadata": {},
   "source": [
    "<div class=\"alert alert-block alert-info\">\n",
    "\n",
    "Lag et program som skriver ut alle primtallene opp til og med en grense $n$ ved hjelp av [Eratosthenes' sil](https://no.wikipedia.org/wiki/Eratosthenes%27_sil). \n",
    "\n",
    "Algoritmen er som følger (hentet fra Wikipedia):\n",
    "1. Lag en liste av påfølgende heltall fra $2$ til $n$: $2, 3, 4, ..., n$\n",
    "2. La $p$ til å begynne med være lik $2$, det første primtallet.\n",
    "3. Stryk ut alle multipler av $p$ som er større enn eller lik $p^2$ fra listen.\n",
    "4. Finn det første tallet større enn $p$ som står igjen på listen. Dette tallet er det neste primtallet. Sett $p$ lik dette tallet.\n",
    "5. Gjenta trinn 3 og 4 inntil $p^2$ er større enn $n$. Alle gjenværende tall i listen er nå primtall.\n",
    "\n",
    "**Tips:** Man kan fjerne elementer fra lister på mange måter, for eksempel både `.pop()` og `.remove()`. Hvis vi for eksempel har listen `a = [10, 20, 30]` og vil fjerne tallet `20` fra listen, kan vi enten skrive `a.pop(1)` siden 20 har indeks `1`, eller `a.remove(20)` siden det er verdien til elementet.\n",
    "\n",
    "</div>"
   ]
  },
  {
   "cell_type": "code",
   "execution_count": null,
   "metadata": {},
   "outputs": [],
   "source": [
    "# Skriv koden din her:\n",
    "\n"
   ]
  },
  {
   "cell_type": "markdown",
   "metadata": {},
   "source": [
    "[Løsningsforslag](#Oppgave-10---løsningsforslag)\n",
    "\n",
    "[Til toppen](#Oppgaver-med-løkker)"
   ]
  },
  {
   "cell_type": "markdown",
   "metadata": {},
   "source": [
    ".\n",
    "\n",
    ".\n",
    "\n",
    ".\n",
    "\n",
    ".\n",
    "\n",
    ".\n",
    "\n",
    ".\n",
    "\n",
    ".\n",
    "\n",
    ".\n",
    "\n",
    ".\n",
    "\n",
    ".\n",
    "\n",
    ".\n",
    "\n",
    ".\n",
    "\n",
    ".\n",
    "\n",
    ".\n",
    "\n",
    ".\n",
    "\n",
    ".\n",
    "\n",
    ".\n",
    "\n",
    ".\n",
    "\n",
    ".\n",
    "\n",
    ".\n",
    "\n",
    "."
   ]
  },
  {
   "cell_type": "markdown",
   "metadata": {},
   "source": [
    "# Løsningsforslag"
   ]
  },
  {
   "cell_type": "markdown",
   "metadata": {},
   "source": [
    "### Oppgave 1 - løsningsforslag"
   ]
  },
  {
   "cell_type": "markdown",
   "metadata": {},
   "source": [
    "<div class=\"alert alert-block alert-info\">\n",
    "\n",
    "1. Bruk ei *for*-løkke og `range()`-funksjonen til å lage et program som kan regne ut summen av kvadratene til de $10$ første heltallene, altså $$\\sum_{i=1}^{10} i^2 = 1^2 + 2^2 + ... + 10^2$$\n",
    "    - Tips: Husk at du kan oppdatere verdiene til variabler. Hvis du for eksempel har en variabel `a` og vil øke verdien dens med 1, kan du skrive `a = a + 1`.\n",
    "\n",
    "2. Gjør det samme med ei *while*-løkke.\n",
    "    - Husk å oppdatere tellevariabelen, slik at du ikke får ei uendelig løkke! Du ser om programmet ditt står og jobber ved å se på rundingen oppe til høyre for der det står \"Python 3\" på siden. Hvis den er sort, betyr det at den står og jobber, og da kan du avbryte operasjonen ved å trykke på \"Kernel -> Interrupt\" eller \"Kernel -> Restart\"\n",
    "    \n",
    "\n",
    "3. Utvid programmet til å be brukeren om å gi verdien til $n$ som input, for så å regne ut $$\\sum_{i=1}^{n} i^2 = 1^2 + 2^2 + ... + n^2$$. Du velger selv om du vil gjøre dette med *for*- eller *while*-løkke. \n",
    "\n",
    "</div>"
   ]
  },
  {
   "cell_type": "code",
   "execution_count": null,
   "metadata": {},
   "outputs": [],
   "source": [
    "# Oppgave 1.1\n",
    "\n",
    "summen = 0\n",
    "\n",
    "for i in range(1, 10+1):\n",
    "    summen = summen + i**2\n",
    "\n",
    "print(\"Summen av kvadratet til de ti første heltallene er\", summen)"
   ]
  },
  {
   "cell_type": "code",
   "execution_count": null,
   "metadata": {},
   "outputs": [],
   "source": [
    "# Oppgave 1.2\n",
    "\n",
    "summen = 0\n",
    "j = 0\n",
    "\n",
    "while j < 10+1:\n",
    "    summen = summen + j**2\n",
    "    j = j + 1\n",
    "\n",
    "print(\"Summen av kvadratet til de ti første heltallene er\", summen)"
   ]
  },
  {
   "cell_type": "code",
   "execution_count": null,
   "metadata": {},
   "outputs": [],
   "source": [
    "# Oppgave 1.3 med for-løkke\n",
    "\n",
    "n = int(input(\"Hva skal verdien til n være? \"))\n",
    "summen = 0\n",
    "\n",
    "for i in range(1, n+1):\n",
    "    summen = summen + i**2\n",
    "\n",
    "print(\"Summen av kvadratet til de\", n, \"første heltallene er\", summen)"
   ]
  },
  {
   "cell_type": "code",
   "execution_count": null,
   "metadata": {},
   "outputs": [],
   "source": [
    "# Oppgave 1.3 med while-løkke\n",
    "\n",
    "n = int(input(\"Hva skal verdien til n være? \"))\n",
    "summen = 0\n",
    "j = 0\n",
    "\n",
    "while j < n+1:\n",
    "    summen = summen + j**2\n",
    "    j = j + 1\n",
    "\n",
    "print(\"Summen av kvadratet til de fem første heltallene er\", summen)"
   ]
  },
  {
   "cell_type": "markdown",
   "metadata": {},
   "source": [
    "[Tilbake til oppgavene](#Oppgave-1)"
   ]
  },
  {
   "cell_type": "markdown",
   "metadata": {},
   "source": [
    "### Oppgave 2 - løsningsforslag"
   ]
  },
  {
   "cell_type": "markdown",
   "metadata": {},
   "source": [
    "<div class=\"alert alert-block alert-info\">\n",
    "\n",
    "I kodeboksen under ser du funksjonen `sum()`, som regner ut summen av alle elementene i en liste. Bruk ei *for*-løkke til å gjøre det samme som `sum()`-funksjonen.\n",
    "\n",
    "</div>"
   ]
  },
  {
   "cell_type": "code",
   "execution_count": null,
   "metadata": {},
   "outputs": [],
   "source": [
    "tall = [2, 63, -14, 9, 23]\n",
    "\n",
    "summen = 0\n",
    "\n",
    "for i in tall:\n",
    "    summen = summen + i\n",
    "\n",
    "print(\"Summen av elementene i listen er\", summen)"
   ]
  },
  {
   "cell_type": "markdown",
   "metadata": {},
   "source": [
    "[Tilbake til oppgavene](#Oppgave-2)"
   ]
  },
  {
   "cell_type": "markdown",
   "metadata": {},
   "source": [
    "### Oppgave 3 - løsningsforslag"
   ]
  },
  {
   "cell_type": "markdown",
   "metadata": {},
   "source": [
    "<div class=\"alert alert-block alert-info\">\n",
    "\n",
    "Bruk ei *while*-løkke til å finne alle Fibonacci-tallene som er mindre enn $10000$, og lagrer dem i en liste. I en Fibonacci-rekke er hvert tall i rekken summen av de to foregående tallene. De to første tallene har verdien $1$. \n",
    "De syv første Fibonacci-tallene er: $1, 1, 2, 3, 5, 8, 13$.\n",
    "\n",
    "</div>"
   ]
  },
  {
   "cell_type": "code",
   "execution_count": null,
   "metadata": {},
   "outputs": [],
   "source": [
    "fib = [1, 1]\n",
    "\n",
    "while fib[-1] + fib[-2] < 10000:\n",
    "    fib.append(fib[-1] + fib[-2])   # Her kunne vi også ha brukt fib.append(fib[i-2] + fib[i-1])\n",
    "\n",
    "print(fib)"
   ]
  },
  {
   "cell_type": "code",
   "execution_count": null,
   "metadata": {},
   "outputs": [],
   "source": [
    "# En annen mulig løsning\n",
    "\n",
    "fib = [1, 1]\n",
    "\n",
    "while fib[-1] < 10000:\n",
    "    fib.append(fib[-1] + fib[-2])   # Her kunne vi også ha brukt fib.append(fib[i-2] + fib[i-1])\n",
    "\n",
    "fib.pop()\n",
    "print(fib)"
   ]
  },
  {
   "cell_type": "markdown",
   "metadata": {},
   "source": [
    "[Tilbake til oppgavene](#Oppgave-3)"
   ]
  },
  {
   "cell_type": "markdown",
   "metadata": {},
   "source": [
    "### Oppgave 4 - løsningsforslag"
   ]
  },
  {
   "cell_type": "markdown",
   "metadata": {},
   "source": [
    "<div class=\"alert alert-block alert-info\">\n",
    "\n",
    "Fullfør koden under for å lage et program som regner ut gjennomsnitt av tall. Programmet skal først la brukeren bestemme hvor mange tall som skal gis som input. Deretter skal programmet be brukeren om å oppgi disse tallene som input én etter én, før gjennomsnittet av dem regnes ut og returneres.\n",
    "\n",
    "**Hint**: Man kan ha variabler som bestemmes ved input inni løkker.\n",
    "\n",
    "</div>"
   ]
  },
  {
   "cell_type": "code",
   "execution_count": null,
   "metadata": {},
   "outputs": [],
   "source": [
    "# Gjennomsnitt av x antall tall gitt fra brukeren\n",
    "\n",
    "antall = int(input(\"Hvor mange tall skal det regnes gjennomsnitt av? \"))\n",
    "summen = 0\n",
    "\n",
    "for i in range(antall):\n",
    "    tall = float(input(\"Skriv et tall: \"))\n",
    "    summen = summen + tall\n",
    "\n",
    "print(\"Gjennomsnittet er\", round(summen/antall, 2))   # round()-funksjonen runder av til et gitt antall desimaler"
   ]
  },
  {
   "cell_type": "markdown",
   "metadata": {},
   "source": [
    "[Tilbake til oppgavene](#Oppgave-4)"
   ]
  },
  {
   "cell_type": "markdown",
   "metadata": {},
   "source": [
    "### Oppgave 5 - løsningsforslag"
   ]
  },
  {
   "cell_type": "markdown",
   "metadata": {},
   "source": [
    "<div class=\"alert alert-block alert-info\">\n",
    "\n",
    "Lag et program som tar listene `a = [1, 2, 3, 4]`, `b = [5, 6, 7, 8]` og `c = [2, 1, 4, 3]` og som printer ut en ny liste `d` som er summen av tallene for hver indeks.\n",
    "\n",
    "</div>"
   ]
  },
  {
   "cell_type": "code",
   "execution_count": null,
   "metadata": {},
   "outputs": [],
   "source": [
    "a = [1, 2, 3, 4]\n",
    "b = [5, 6, 7, 8]\n",
    "c = [2, 1, 4 ,3]\n",
    "\n",
    "d = []    # Ny liste som skal inneholde summene\n",
    "\n",
    "for i in range(len(a)):    # Helt greit å bare skrive range(4) her\n",
    "    d.append(a[i] + b[i] + c[i])\n",
    "    \n",
    "print(d)"
   ]
  },
  {
   "cell_type": "markdown",
   "metadata": {},
   "source": [
    "[Tilbake til oppgavene](#Oppgave-5)"
   ]
  },
  {
   "cell_type": "markdown",
   "metadata": {},
   "source": [
    "### Oppgave 6 - løsningsforslag"
   ]
  },
  {
   "cell_type": "markdown",
   "metadata": {},
   "source": [
    "<div class=\"alert alert-block alert-info\">\n",
    "\n",
    "I kodeboksen under ser du funksjonen `max()`, som går gjennom alle elementene i en liste og returnerer den største av dem. Bruk en *for*-løkke og en *if*-test til å gjøre det samme som `max()`-funksjonen.\n",
    "\n",
    "</div>"
   ]
  },
  {
   "cell_type": "code",
   "execution_count": null,
   "metadata": {
    "scrolled": true
   },
   "outputs": [],
   "source": [
    "tall = [2, 63, -14, 9, 23]\n",
    "\n",
    "størst_tall = 0\n",
    "\n",
    "for i in tall:\n",
    "    if i > størst_tall:\n",
    "        størst_tall = i\n",
    "\n",
    "print(\"Det største elementet i listen er\", størst_tall)"
   ]
  },
  {
   "cell_type": "markdown",
   "metadata": {},
   "source": [
    "[Tilbake til oppgavene](#Oppgave-6)"
   ]
  },
  {
   "cell_type": "markdown",
   "metadata": {},
   "source": [
    "### Oppgave 7 - løsningsforslag"
   ]
  },
  {
   "cell_type": "markdown",
   "metadata": {},
   "source": [
    "<div class=\"alert alert-block alert-info\">\n",
    "\n",
    "I Jupyter Notebooken om løkker fikk du i oppgave å lage et program som skulle be om et heltall som input fra brukeren og finne alle faktorene/divisorene til tallet, lagre dem i en liste, og til slutt skrive lista ut på skjermen. Koden under er den samme, bortsett fra at tallet selv ikke lagres som en divisor (stoppverdien til `range()`-funksjonen har blitt endret fra `tall+1` til `tall`).\n",
    "\n",
    "Utvid dette programmet til å også sjekke om input-tallet er et perfekt tall eller ikke. Et perfekt tall er et tall som er like stort som summen av alle faktorene sine. For eksempel er $6$ et perfekt tall, siden divisorene til $6$ er $1$, $2$ og $3$, og $6 = 1 + 2 + 3$.\n",
    "\n",
    "**Tips**: Hvis `liste` er en liste med tall, vil `sum(liste)` returnere summen av alle elementene i `liste`.\n",
    "\n",
    "</div>"
   ]
  },
  {
   "cell_type": "code",
   "execution_count": null,
   "metadata": {},
   "outputs": [],
   "source": [
    "tall = int(input(\"Skriv et positivt heltall du ønsker å finne divisorene til: \"))\n",
    "\n",
    "divisorer = []  # Oppretter en tom liste som divisorene kan lagres i.\n",
    "\n",
    "for i in range(1, tall):     # Vi lar range()-funksjonen starte på 1 fordi man ikke kan dele på 0\n",
    "    if tall % i == 0:        # Bruker modulus-operatoren for å sjekke om vi får ut et heltall når vi deler tallet på i\n",
    "        divisorer.append(i)  # Lagrer divisoren\n",
    "        \n",
    "print(\"Divisorene til\", tall, \"er:\", divisorer)\n",
    "\n",
    "if sum(divisorer) == tall:      # sum() returnerer summen av alle elementene i en liste\n",
    "    print(tall, \"er et perfekt tall!\")\n",
    "else:\n",
    "    print(tall, \"er ikke et perfekt tall.\")"
   ]
  },
  {
   "cell_type": "markdown",
   "metadata": {},
   "source": [
    "[Tilbake til oppgavene](#Oppgave-7)"
   ]
  },
  {
   "cell_type": "markdown",
   "metadata": {},
   "source": [
    "### Oppgave 8 - løsningsforslag"
   ]
  },
  {
   "cell_type": "markdown",
   "metadata": {},
   "source": [
    "<div class=\"alert alert-block alert-info\">\n",
    "\n",
    "Du skal lage et program som finner alle heltall større enn null som er delelige med `divisor` opp til en grense `grense`, og lagrer dem i en liste. Hvis for eksempel divisoren er $4$ og den øvre grensen er $16$, $17$, $18$ eller $19$, skal listen lagre tallene `[4, 8, 12, 16]`.\n",
    "\n",
    "Programmet skal først be brukeren om verdier for `grense` og `divisor` som input. Bruk en *for*-løkke til å lagre alle tallene opp til `grense` som er delelige med `divisor`, og lagrer dem i en liste. Til slutt skal denne listen skrives ut til skjermen.\n",
    "\n",
    "</div>"
   ]
  },
  {
   "cell_type": "code",
   "execution_count": null,
   "metadata": {},
   "outputs": [],
   "source": [
    "divisor = int(input(\"Hvilken divisor vil du finne tall som er delelige med? \"))\n",
    "grense = int(input(\"Hva skal være den øvre grensen for disse tallene? \"))\n",
    "\n",
    "delelig = []    # Oppretter en tom liste som divisorene kan lagres i.\n",
    "\n",
    "for i in range(1, grense+1):\n",
    "    if i % divisor == 0:\n",
    "        delelig.append(i)\n",
    "\n",
    "print(delelig)"
   ]
  },
  {
   "cell_type": "markdown",
   "metadata": {},
   "source": [
    "[Tilbake til oppgavene](#Oppgave-8)"
   ]
  },
  {
   "cell_type": "markdown",
   "metadata": {},
   "source": [
    "### Oppgave 9 - løsningsforslag"
   ]
  },
  {
   "cell_type": "markdown",
   "metadata": {},
   "source": [
    "<div class=\"alert alert-block alert-info\">\n",
    "\n",
    "1. Du skal lage et program som samler de elementene som både er i liste `a` og liste `b` i en ny liste `c`.\n",
    "\n",
    "\n",
    "2. Utvid koden til å gjøre slik at det ikke er noen duplikater i `c`, altså at alle elementene i `c` er unike.\n",
    "\n",
    "</div>"
   ]
  },
  {
   "cell_type": "code",
   "execution_count": null,
   "metadata": {},
   "outputs": [],
   "source": [
    "# Oppgave 7.1\n",
    "\n",
    "a = [1, 1, 2, 3, 5, 8, 13, 21, 34, 55, 89]\n",
    "b = [1, 2, 3, 4, 5, 6, 7, 8, 9, 10, 11, 12, 13]\n",
    "c = []\n",
    "\n",
    "for i in a:\n",
    "    if i in b:\n",
    "        c.append(i)\n",
    "\n",
    "print(c)"
   ]
  },
  {
   "cell_type": "code",
   "execution_count": null,
   "metadata": {},
   "outputs": [],
   "source": [
    "# Oppgave 7.2\n",
    "\n",
    "a = [1, 1, 2, 3, 5, 8, 13, 21, 34, 55, 89]\n",
    "b = [1, 2, 3, 4, 5, 6, 7, 8, 9, 10, 11, 12, 13]\n",
    "c = []\n",
    "\n",
    "for i in a:\n",
    "    if i in b and i not in c:\n",
    "        c.append(i)\n",
    "\n",
    "print(c)"
   ]
  },
  {
   "cell_type": "markdown",
   "metadata": {},
   "source": [
    "[Tilbake til oppgavene](#Oppgave-9)"
   ]
  },
  {
   "cell_type": "markdown",
   "metadata": {},
   "source": [
    "### Oppgave 10 - løsningsforslag"
   ]
  },
  {
   "cell_type": "markdown",
   "metadata": {},
   "source": [
    "<div class=\"alert alert-block alert-info\">\n",
    "\n",
    "Lag et program som skriver ut alle primtallene opp til og med en grense $n$ ved hjelp av [Eratosthenes' sil](https://no.wikipedia.org/wiki/Eratosthenes%27_sil). \n",
    "\n",
    "Algoritmen er som følger (hentet fra Wikipedia):\n",
    "1. Lag en liste av påfølgende heltall fra $2$ til $n$: $2, 3, 4, ..., n$\n",
    "2. La $p$ til å begynne med være lik $2$, det første primtallet.\n",
    "3. Stryk ut alle multipler av $p$ som er større enn eller lik $p^2$ fra listen.\n",
    "4. Finn det første tallet større enn $p$ som står igjen på listen. Dette tallet er det neste primtallet. Sett $p$ lik dette tallet.\n",
    "5. Gjenta trinn 3 og 4 inntil $p^2$ er større enn $n$. Alle gjenværende tall i listen er nå primtall.\n",
    "\n",
    "**Tips:**\n",
    "- Man kan fjerne elementer fra lister på mange måter, for eksempel både `.pop()` og `.remove()`. Hvis vi for eksempel har listen `a = [10, 20, 30]` og vil fjerne tallet `20` fra listen, kan vi enten skrive `a.pop(1)` siden 20 har indeks `1`, eller `a.remove(20)` siden det er verdien til elementet.\n",
    "- Husk at man kan endre steglengde i `range()`-funksjonen, og at syntaksen til denne funksjonen er `range(start, stop, step)`.\n",
    "\n",
    "</div>"
   ]
  },
  {
   "cell_type": "code",
   "execution_count": null,
   "metadata": {},
   "outputs": [],
   "source": [
    "n = 100\n",
    "\n",
    "liste = list(range(2, n+1))\n",
    "liste_kopi = liste.copy()       # Her lager vi en kopi av lista slik at vi kan løkke gjennom den ene \n",
    "                                # og fjerne elementer fra den andre.\n",
    "\n",
    "for p in liste:\n",
    "    for q in liste:\n",
    "        if (q in liste_kopi) and (q % p == 0) and (q >= p**2):\n",
    "            liste_kopi.remove(q)\n",
    "\n",
    "print(liste_kopi)"
   ]
  },
  {
   "cell_type": "code",
   "execution_count": null,
   "metadata": {},
   "outputs": [],
   "source": [
    "# En mer effektiv løsning\n",
    "\n",
    "import math\n",
    "\n",
    "n = 100\n",
    "nmax = int(math.sqrt(n)) + 1    # nmax er det høyeste elementet vi trenger å løkke til. \n",
    "                                # int()-funksjonen runder kvadratroten ned til nærmeste heltall. \n",
    "                                # Vi legger til 1 pga. indeksering i Python.\n",
    "\n",
    "liste = list(range(2, n+1))\n",
    "liste_kopi = liste.copy()       # Her lager vi en kopi av lista slik at vi kan løkke gjennom den ene \n",
    "                                # og fjerne elementer fra den andre.\n",
    "\n",
    "for p in range(2, nmax):\n",
    "    for q in liste:\n",
    "        if (q in liste_kopi) and (q % p == 0) and (q >= p**2):\n",
    "            liste_kopi.remove(q)\n",
    "\n",
    "print(liste_kopi)"
   ]
  },
  {
   "cell_type": "code",
   "execution_count": null,
   "metadata": {},
   "outputs": [],
   "source": [
    "# En annen mulig løsning\n",
    "\n",
    "import math\n",
    "\n",
    "n = 100\n",
    "nmax = int(math.sqrt(n)) + 1    # nmax er det høyeste elementet vi trenger å løkke til.\n",
    "                                # int()-funksjonen runder kvadratroten ned til nærmeste heltall.\n",
    "                                # Vi legger til 1 pga. indeksering i Python.\n",
    "\n",
    "liste = list(range(2, n+1))\n",
    "\n",
    "for p in range(2, nmax):\n",
    "    if liste[p-2] != 0:\n",
    "        for q in range(p**2, n+1, p):   # start, stop, step\n",
    "            liste[q-2] = 0\n",
    "\n",
    "\n",
    "# Lager listen med kun primtallene:\n",
    "            \n",
    "primtall = []\n",
    "\n",
    "for i in liste:\n",
    "    if i != 0:\n",
    "        primtall.append(i)\n",
    "            \n",
    "print(primtall)\n",
    "\n",
    "\n",
    "# Alternativ måte å få listen med kun primtallene:\n",
    "# while 0 in liste:\n",
    "#     liste.remove(0)\n",
    "# print(liste)"
   ]
  },
  {
   "cell_type": "markdown",
   "metadata": {},
   "source": [
    "[Tilbake til oppgavene](#Oppgave-10)"
   ]
  },
  {
   "cell_type": "markdown",
   "metadata": {},
   "source": [
    "[Til toppen](#Oppgaver-med-løkker)"
   ]
  }
 ],
 "metadata": {
  "kernelspec": {
   "display_name": "Python 3",
   "language": "python",
   "name": "python3"
  },
  "language_info": {
   "codemirror_mode": {
    "name": "ipython",
    "version": 3
   },
   "file_extension": ".py",
   "mimetype": "text/x-python",
   "name": "python",
   "nbconvert_exporter": "python",
   "pygments_lexer": "ipython3",
   "version": "3.7.0"
  }
 },
 "nbformat": 4,
 "nbformat_minor": 2
}

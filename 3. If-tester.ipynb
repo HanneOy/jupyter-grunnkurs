{
 "cells": [
  {
   "cell_type": "markdown",
   "metadata": {},
   "source": [
    "# *If*-tester"
   ]
  },
  {
   "cell_type": "markdown",
   "metadata": {},
   "source": [
    "- [Boolske uttrykk](#Boolske-uttrykk)\n",
    "- [If-tester med flere alternativer](#If-tester-med-flere-alternativer)"
   ]
  },
  {
   "cell_type": "markdown",
   "metadata": {},
   "source": [
    "Ofte vil du trenge å undersøke om en gitt betingelse er oppfylt i programmene dine, og til dette bruker vi *if*-tester. Med en *if*-test sjekker vi om noe er sant eller ikke, og dersom det er sant skjer det et eller annet som konsekvens av det. \n",
    "\n",
    "For eksempel, hvis vi skal gjøre et kjøp med bankkort trenger vi å taste inn en pin-kode, som må være den helt riktige for at transaksjonen skal gå gjennom. Dersom koden vi taster inn er den riktige, gjennomføres transaksjonen, og hvis ikke blir kjøpet nektet. Med et \"kodeoppsett\" kan dette vises slik:\n",
    "\n",
    "```python\n",
    "if [pinkoden er riktig]:\n",
    "    [transaksjonen gjennomføres]\n",
    "else:\n",
    "    [transaksjonen gjennomføres ikke]\n",
    "```\n",
    "\n",
    "Man trenger ikke undersøke om to ting er nøyaktig like, men du kan for eksempel også undersøke om en verdi er større eller mindre enn en annen. For å igjen bruke bankkorteksemplet er du nødt til å ha minst like mye penger på kortet som det du ønsker å kjøpe for at transaksjonen skal gjennomføres:\n",
    "\n",
    "```python\n",
    "if [kontobeløpet er minst like stort som det som skal betales]:\n",
    "    [transaksjonen gjennomføres]\n",
    "else:\n",
    "    [transaksjonen gjennomføres ikke]\n",
    "```\n",
    "\n",
    "Merk at det er kolon på slutten av alle `if`- og `else`-linjene – uten det vil du få en feilmelding."
   ]
  },
  {
   "cell_type": "markdown",
   "metadata": {},
   "source": [
    "### Boolske uttrykk"
   ]
  },
  {
   "cell_type": "markdown",
   "metadata": {},
   "source": [
    "For at Python skal kunne vite om noe er sant eller ikke, bruker programmet boolske uttrykk, som er noe som enten er sant eller ikke sant. Ved å kjøre koden under ser du hvordan dette fungerer:"
   ]
  },
  {
   "cell_type": "code",
   "execution_count": 1,
   "metadata": {},
   "outputs": [
    {
     "name": "stdout",
     "output_type": "stream",
     "text": [
      "Test av om a == 20: True\n",
      "Test av om a == 21: False\n",
      "Test av om a != 20: False\n",
      "Test av om a > 10:  True\n",
      "Test av om a > 30:  False\n",
      "Test av om a < 30:  True\n",
      "Test av om a < 20:  False\n",
      "Test av om a <= 20: True\n"
     ]
    }
   ],
   "source": [
    "a = 20      # Definerer variabelen a først\n",
    "\n",
    "print(\"Test av om a == 20:\", a == 20)   # Skriver ut \"True\"\n",
    "print(\"Test av om a == 21:\", a == 21)   # Skriver ut \"False\"\n",
    "print(\"Test av om a != 20:\", a != 20)   # Skriver ut \"False\"\n",
    "print(\"Test av om a > 10: \", a > 10)    # Skriver ut \"True\"\n",
    "print(\"Test av om a > 30: \", a > 30)    # Skriver ut \"False\"\n",
    "print(\"Test av om a < 30: \", a < 30)    # Skriver ut \"True\"\n",
    "print(\"Test av om a < 20: \", a < 20)    # Skriver ut \"False\"\n",
    "print(\"Test av om a <= 20:\", a <= 20)   # Skriver ut \"True\""
   ]
  },
  {
   "cell_type": "markdown",
   "metadata": {},
   "source": [
    "<div class=\"alert alert-block alert-success\">\n",
    "\n",
    "**Tips:**\n",
    "\n",
    "Likhetstegnet brukes på en litt annerledes måte i programmering enn i for eksempel matematikk, for her bruker man likhetstegnet for å tilegne en variabel en verdi. Hvis vi for eksempel skriver `a = 2`, betyr det at vi lager en variabel `a` som tilegnes verdien 2. \n",
    "\n",
    "Hvis vi senere skal oppdatere variabelen kan vi for eksempel skrive `a = a + 1`, noe som nok føles litt \"ulovlig\" sett fra et matematisk standpunkt, men det betyr rett og slett at verdien til variabelen `a` nå er 1 mer enn den var før, altså 3.\n",
    "\n",
    "Hvis vi derimot skal undersøke om to ting er like, som vi ofte vil i *if*-tester, bruker vi derfor to likhetstegn, altså `==`.\n",
    "\n",
    "Her er en oversikt over de ulike symbolene vi bruker i boolske uttrykk, og hva de betyr:\n",
    "\n",
    "<table style=\"width:30%\">\n",
    "    <tr>\n",
    "        <th> Symbol </th>\n",
    "        <th> Betydning </th>\n",
    "    </tr>\n",
    "    <tr>\n",
    "        <td> == </td>\n",
    "        <td> Nøyaktig lik </td>\n",
    "    </tr>\n",
    "    <tr>\n",
    "        <td> != </td>\n",
    "        <td> Ulik </td>\n",
    "    </tr>\n",
    "    <tr>\n",
    "        <td> > </td>\n",
    "        <td> Større enn </td>\n",
    "    </tr>\n",
    "    <tr>\n",
    "        <td> < </font></td>\n",
    "        <td> Mindre enn </td>\n",
    "    </tr>\n",
    "    <tr>\n",
    "        <td> >= </td>\n",
    "        <td> Større enn eller lik </td>\n",
    "    </tr>\n",
    "    <tr>\n",
    "        <td> <= </td>\n",
    "        <td> Mindre enn eller lik </td>\n",
    "    </tr>\n",
    "</table> \n",
    "\n",
    "</div>"
   ]
  },
  {
   "cell_type": "markdown",
   "metadata": {},
   "source": [
    "I noen tilfeller trenger man også `not`, siden det av og til er lettere å forstå, og dermed øker lesbarheten til koden din. Med `not` undersøker du det motsatte av det som kommer etterpå:"
   ]
  },
  {
   "cell_type": "code",
   "execution_count": 8,
   "metadata": {},
   "outputs": [
    {
     "name": "stdout",
     "output_type": "stream",
     "text": [
      "True\n",
      "False\n"
     ]
    }
   ],
   "source": [
    "a = 20\n",
    "\n",
    "print(a > 10)       # Skriver ut \"True\"\n",
    "print(not a > 10)   # Skriver ut \"False\""
   ]
  },
  {
   "cell_type": "markdown",
   "metadata": {},
   "source": [
    "Nå skal vi prøve å kombinere disse boolske uttrykkene med `input`-kommandoen og en *if*-test. Kjør koden under og prøv deg fram med forskjellige verdier av `a`."
   ]
  },
  {
   "cell_type": "code",
   "execution_count": 12,
   "metadata": {},
   "outputs": [
    {
     "name": "stdout",
     "output_type": "stream",
     "text": [
      "Skriv et heltall: 7\n",
      "7 er ikke større enn 10\n"
     ]
    }
   ],
   "source": [
    "a = int(input(\"Skriv et heltall: \"))\n",
    "\n",
    "if a > 10:\n",
    "    print(a, \"er større enn 10\")\n",
    "else:\n",
    "    print(a, \"er ikke større enn 10\")"
   ]
  },
  {
   "cell_type": "markdown",
   "metadata": {},
   "source": [
    "<div class=\"alert alert-block alert-info\">\n",
    "\n",
    "<b>Oppgave:</b> \n",
    "\n",
    "Nå skal du lage et program der du kombinerer en *if*-test med input fra bruker.\n",
    "\n",
    "1. Først skal programmet be brukeren om et heltall som input\n",
    "2. Deretter skal programmet undersøke om tallet er et partall eller et oddetall ved hjelp av en *if*-test\n",
    "3. Programmet skal også skrive ut en beskjed som informerer bruke om hvorvidt tallet er et partall eller oddetall \n",
    "\n",
    "**Hint:** Husk modulusoperatoren! Du kan finne ut om en tallvariabel `tall` er et partall eller et oddetall ved å undersøke om `tall % 2` er lik null eller ikke.\n",
    "\n",
    "Du finner et løsningsforslag lenger ned - men prøv selv først!\n",
    "\n",
    "</div>"
   ]
  },
  {
   "cell_type": "code",
   "execution_count": null,
   "metadata": {},
   "outputs": [],
   "source": [
    "tall = ???\n",
    "\n",
    "if ???:\n",
    "    ???\n",
    "else:\n",
    "    ???"
   ]
  },
  {
   "cell_type": "markdown",
   "metadata": {},
   "source": [
    ".\n",
    "\n",
    ".\n",
    "\n",
    ".\n",
    "\n",
    ".\n",
    "\n",
    ".\n",
    "\n",
    ".\n",
    "\n",
    ".\n",
    "\n",
    ".\n",
    "\n",
    ".\n",
    "\n",
    ".\n",
    "\n",
    ".\n",
    "\n",
    ".\n",
    "\n",
    ".\n",
    "\n",
    ".\n",
    "\n",
    ".\n",
    "\n",
    ".\n",
    "\n",
    ".\n",
    "\n",
    ".\n",
    "\n",
    ".\n",
    "\n",
    ".\n",
    "\n",
    "."
   ]
  },
  {
   "cell_type": "code",
   "execution_count": 11,
   "metadata": {},
   "outputs": [
    {
     "name": "stdout",
     "output_type": "stream",
     "text": [
      "Skriv et heltall: 29\n",
      "Tallet 29 er et oddetall\n"
     ]
    }
   ],
   "source": [
    "tall = int(input(\"Skriv et heltall: \"))\n",
    "\n",
    "if tall % 2 == 0:\n",
    "    print(tall, \"er et partall\")\n",
    "else:\n",
    "    print(tall, \"er et oddetall\")"
   ]
  },
  {
   "cell_type": "markdown",
   "metadata": {},
   "source": [
    "### *If*-tester med flere alternativer"
   ]
  },
  {
   "cell_type": "markdown",
   "metadata": {},
   "source": [
    "Hittil har vi sett på *if*-tester der vi tenker oss to mulige utfall: Enten skjer en ting, eller så skjer det ikke. Et kriterium er enten oppfylt eller ikke oppfylt.\n",
    "\n",
    "Ofte vil vi se på tilfeller der det er mer enn ett mulig kriterium som er oppfylt. Når for eksempel ungdomsskoleelever søker om skoleplass til videregående, setter de opp tre ulike utdanningsprogram i prioritert rekkefølge. For å kunne gi dette et \"kodeoppsett\" må vi introdusere noe nytt til *if*-testen vår, nemlig muligheten `elif`. `elif` er en sammentrekning av \"else if\", og kan rett og slett leses som \"ellers hvis\":\n",
    "\n",
    "```python\n",
    "if [elevens karaktersnitt er høyt nok til å komme inn på førstevalget]:\n",
    "    [eleven kommer inn på førstevalget]\n",
    "elif [elevens karaktersnitt er høyt nok til å komme inn på andrevalget]:\n",
    "    [eleven kommer inn på andrevalget]\n",
    "else:\n",
    "    [eleven kommer inn på tredjevalget]\n",
    "```"
   ]
  },
  {
   "cell_type": "markdown",
   "metadata": {},
   "source": [
    "<div class=\"alert alert-block alert-success\">\n",
    "\n",
    "**Tips:** \n",
    "\n",
    "Litt hjelp med å forstå *if*-tester:\n",
    "- Husk at Python leser ovenfra og nedover.\n",
    "- Så snart en *if*-test støter på noe som er sant, er den ferdig, og undersøker ikke videre.\n",
    "    - For eksempel, dersom en elev har høyt nok snitt til å komme inn på førstevalget sitt, vil ikke programmet sjekke om eleven også ville kommet inn på andre- eller tredjevalget\n",
    "    - Man vil ikke risikere å få to ulike resultater på én *if*-test.\n",
    "- Du kan godt ha en *if*-test uten `else`. Du kan for eksempel ha en slik *if*-test dersom du vil undersøke om et kriterium er oppfylt eller ikke, og hvis det er det skal det skje en konsekvens - men hvis kriteriet ikke er oppfylt, skal det ikke skje noe. Dette vil ganske enkelt se slik ut:\n",
    "<p style=\"margin-left: 20px\"><font face=\"Courier New\"><b>if</b> [kriterium er oppfylt]:</font></p>\n",
    "<p style=\"margin-left: 50px\"><font face=\"Courier New\">[konsekvens]</font></p>\n",
    "<p style=\"margin-left: 5px\">uten noen <font face=\"Courier New\">elif</font> eller <font face=\"Courier New\">else</font> etter.</p>\n",
    "\n",
    "</div>"
   ]
  },
  {
   "cell_type": "markdown",
   "metadata": {},
   "source": [
    "La oss nå tenke oss at førstevalget til ungdomsskoleeleven krever et karaktersnitt på $4.7$, andrevalget krever et karaktersnitt på $3.6$ og tredjevalget ikke har noen karaktersnittgrense. Et program som skal undersøke hva eleven kommer inn på ved hjelp av input kan da se slik ut:"
   ]
  },
  {
   "cell_type": "code",
   "execution_count": 13,
   "metadata": {},
   "outputs": [
    {
     "name": "stdout",
     "output_type": "stream",
     "text": [
      "Hva var karaktersnittet ditt etter ungdomsskolen? 5\n",
      "Du kommer inn på førstevalget ditt - gratulerer!\n"
     ]
    }
   ],
   "source": [
    "snitt = float(input(\"Hva var karaktersnittet ditt etter ungdomsskolen? \"))\n",
    "\n",
    "if snitt >= 4.7:\n",
    "    print(\"Du kommer inn på førstevalget ditt - gratulerer!\")\n",
    "elif snitt >= 3.6:\n",
    "    print(\"Du kommer inn på andrevalget ditt.\")\n",
    "else:\n",
    "    print(\"Du kommer inn på tredjevalget ditt.\")"
   ]
  },
  {
   "cell_type": "markdown",
   "metadata": {},
   "source": [
    "<div class=\"alert alert-block alert-danger\">\n",
    "\n",
    "<b>Pass på!</b> \n",
    "\n",
    "Du skal ikke ha noe argument etter `else`. Vi kan lese `else` som \"hvis ingenting av det over er sant\" - altså trengs det ikke flere argumenter her. \n",
    "\n",
    "</div>"
   ]
  },
  {
   "cell_type": "markdown",
   "metadata": {},
   "source": [
    "<div class=\"alert alert-block alert-info\">\n",
    "\n",
    "**Oppgaver:**\n",
    "\n",
    "1. På Tusenfryd har de mange attraksjoner. En av dem heter SuperSplash, og den har et høydekrav. Hvis du er under 120 cm kan du ikke ta den, men hvis du er over har du lov. Lag et program som tar høyde som input og gir beskjed om du kan ta SuperSplash eller ikke. \n",
    "2. En annen attraksjon på Tusenfryd heter Thors Hammer og der må du være over 120 cm for å ta den alene, men hvis du er mellom 110 og 120 cm kan du ta den sammen med en voksen. Lag et program som tar høyde som input og gir beskjed om du kan ta den, og eventuelt om du må ha med en voksen. \n",
    "\n",
    "Du finner løsningsforslag lenger ned - men prøv selv først!\n",
    "\n",
    "</div>"
   ]
  },
  {
   "cell_type": "code",
   "execution_count": null,
   "metadata": {},
   "outputs": [],
   "source": [
    "# Her kan du skrive programmet ditt til oppgave 1:\n",
    "\n"
   ]
  },
  {
   "cell_type": "code",
   "execution_count": null,
   "metadata": {},
   "outputs": [],
   "source": [
    "# Her kan du skrive programmet ditt til oppgave 2:\n",
    "\n"
   ]
  },
  {
   "cell_type": "markdown",
   "metadata": {},
   "source": [
    ".\n",
    "\n",
    ".\n",
    "\n",
    ".\n",
    "\n",
    ".\n",
    "\n",
    ".\n",
    "\n",
    ".\n",
    "\n",
    ".\n",
    "\n",
    ".\n",
    "\n",
    ".\n",
    "\n",
    ".\n",
    "\n",
    ".\n",
    "\n",
    ".\n",
    "\n",
    ".\n",
    "\n",
    ".\n",
    "\n",
    ".\n",
    "\n",
    ".\n",
    "\n",
    ".\n",
    "\n",
    ".\n",
    "\n",
    ".\n",
    "\n",
    ".\n",
    "\n",
    "."
   ]
  },
  {
   "cell_type": "code",
   "execution_count": 17,
   "metadata": {},
   "outputs": [
    {
     "name": "stdout",
     "output_type": "stream",
     "text": [
      "Oppgi din høye i cm: 120\n",
      "Gratulerer, du kan ta SuperSplash!\n"
     ]
    }
   ],
   "source": [
    "hoyde = float(input(\"Oppgi din høye i cm: \"))\n",
    "\n",
    "if hoyde >= 120:\n",
    "    print(\"Gratulerer, du kan ta SuperSplash!\")\n",
    "else:\n",
    "    print(\"Beklager, men du kan dessverre ikke ta SuperSplash.\")"
   ]
  },
  {
   "cell_type": "code",
   "execution_count": 16,
   "metadata": {
    "scrolled": true
   },
   "outputs": [
    {
     "name": "stdout",
     "output_type": "stream",
     "text": [
      "Oppgi din høye i cm: 110\n",
      "Du kan ta Thors Hammer, men du trenger følge av en voksen.\n"
     ]
    }
   ],
   "source": [
    "hoyde = float(input(\"Oppgi din høye i cm: \"))\n",
    "\n",
    "if hoyde >= 120:\n",
    "    print(\"Du kan ta Thors Hammer alene!\")\n",
    "elif hoyde >= 110:\n",
    "    print(\"Du kan ta Thors Hammer, men du trenger følge av en voksen.\")\n",
    "else:\n",
    "    print(\"Beklager, men du kan dessverre ikke ta Thors Hammer.\")"
   ]
  },
  {
   "cell_type": "markdown",
   "metadata": {},
   "source": [
    "[Til toppen](#If-tester)"
   ]
  }
 ],
 "metadata": {
  "kernelspec": {
   "display_name": "Python 3",
   "language": "python",
   "name": "python3"
  },
  "language_info": {
   "codemirror_mode": {
    "name": "ipython",
    "version": 3
   },
   "file_extension": ".py",
   "mimetype": "text/x-python",
   "name": "python",
   "nbconvert_exporter": "python",
   "pygments_lexer": "ipython3",
   "version": "3.7.0"
  }
 },
 "nbformat": 4,
 "nbformat_minor": 2
}

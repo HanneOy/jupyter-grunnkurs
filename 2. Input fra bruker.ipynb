{
 "cells": [
  {
   "cell_type": "markdown",
   "metadata": {},
   "source": [
    "# Input fra bruker"
   ]
  },
  {
   "cell_type": "markdown",
   "metadata": {},
   "source": [
    "Vi skal nå introdusere en måte du kan lage et program som \"interagerer\" med de som bruker det, nemlig `input()`-kommandoen. Prøv å kjøre koden under. Når du gjør det vil det dukke opp en hvit boks, som du kan skrive noe i før du trykker \"enter\"."
   ]
  },
  {
   "cell_type": "code",
   "execution_count": null,
   "metadata": {},
   "outputs": [],
   "source": [
    "utskrift = input(\"Hva skal programmet skrive ut? \")\n",
    "\n",
    "print(utskrift)"
   ]
  },
  {
   "cell_type": "markdown",
   "metadata": {},
   "source": [
    "For å forstå `input()`-kommandoen skal vi gå gjennom den, steg for steg:\n",
    "* Først definerer vi variabelen `utskrift`. Når vi kjører programmet \"venter\" `utskrift`-variabelen på å få tilegnet en verdi. \n",
    "* Når programmet kjøres vil det som står i `input()`-parentesen komme opp på skjermen, og derfor er det lurt at dette er noe som gir brukeren en idé om hva slags input som skal gis.\n",
    "* Så snart brukeren har skrevet noe i tekstboksen og trykket \"enter\", vil dette noe bli verdien til variabelen `utskrift`.\n",
    "* Dette fører til at når vi til sist skriver `print(utskrift)` blir brukerens input skrevet ut til skjermen. \n",
    "\n",
    "Prøv gjerne å kjøre programmet et par ganger, og tenk gjennom hva som skjer."
   ]
  },
  {
   "cell_type": "markdown",
   "metadata": {},
   "source": [
    "<div class=\"alert alert-block alert-success\">\n",
    "\n",
    "**Tips:**\n",
    "\n",
    "En variabel som har blitt definert ved hjelp av `input()`-kommandoen har `str` som standarddatatype. Det vil si at med mindre du gir programmet beskjed om noe annet, vil den anse variabelen som en tekststreng. Dette kan by på problemer, for det går ikke an å regne med tekststrenger.\n",
    "\n",
    "- Hvis inputen fra brukeren skal være et desimaltall, bør du ha kommandoen `float()` \"rundt\" `input()`-kommandoen, slik at du skriver `float(input())`. Da blir inputen gjort om til et desimaltall. \n",
    "- Tilsvarende, hvis inputen fra brukeren skal være et heltall, bør du skrive `int(input())`. Da blir inputen gjort om til et heltall.\n",
    "\n",
    "</div>"
   ]
  },
  {
   "cell_type": "markdown",
   "metadata": {},
   "source": [
    "Her skal vi se på et eksempel med `input()`-kommandoen der vi er nødt til å gjøre inputen om til et tall:"
   ]
  },
  {
   "cell_type": "code",
   "execution_count": null,
   "metadata": {},
   "outputs": [],
   "source": [
    "alder = int(input(\"Hvor gammel er du? \"))\n",
    "\n",
    "ny_alder = alder + 1\n",
    "\n",
    "print(\"Nå er du\", alder, \"år gammel. Om et år er du\", ny_alder, \"år gammel.\")"
   ]
  },
  {
   "cell_type": "markdown",
   "metadata": {},
   "source": [
    "Prøv å fjerne `int()`-kommandoen i programmet over - hva skjer? Hva skjer hvis du bytter den ut med `float()`?"
   ]
  },
  {
   "cell_type": "markdown",
   "metadata": {},
   "source": [
    "<div class=\"alert alert-block alert-info\">\n",
    "\n",
    "**Oppgave:**\n",
    "\n",
    "Under ser du kodesnutten fra \"Utskrift til skjerm, operatorer og variabler\" der vi regnet ut arealet til et rektangel. Bytt ut spørsmålstegnene slik at programmet ber om en input fra bruker for å finne lengde og bredde i rektanglet, for så å skrive ut en setning med arealet.\n",
    "\n",
    "Du finner et løsningsforslag lenger ned - men prøv selv først!\n",
    "\n",
    "</div>"
   ]
  },
  {
   "cell_type": "code",
   "execution_count": 1,
   "metadata": {},
   "outputs": [
    {
     "ename": "SyntaxError",
     "evalue": "invalid syntax (<ipython-input-1-6208727270b8>, line 1)",
     "output_type": "error",
     "traceback": [
      "\u001b[1;36m  File \u001b[1;32m\"<ipython-input-1-6208727270b8>\"\u001b[1;36m, line \u001b[1;32m1\u001b[0m\n\u001b[1;33m    lengde = ???    # Gjør om sånn at variabelen \"lengde\" bestemmes av brukeren\u001b[0m\n\u001b[1;37m             ^\u001b[0m\n\u001b[1;31mSyntaxError\u001b[0m\u001b[1;31m:\u001b[0m invalid syntax\n"
     ]
    }
   ],
   "source": [
    "lengde = ???    # Gjør om sånn at variabelen \"lengde\" bestemmes av brukeren\n",
    "bredde = ???    # Gjør om sånn at variabelen \"bredde\" bestemmes av brukeren\n",
    "\n",
    "areal = lengde * bredde\n",
    "print(\"Arealet av rektanglet er:\", areal, \"cm^2\")"
   ]
  },
  {
   "cell_type": "markdown",
   "metadata": {},
   "source": [
    ".\n",
    "\n",
    ".\n",
    "\n",
    ".\n",
    "\n",
    ".\n",
    "\n",
    ".\n",
    "\n",
    ".\n",
    "\n",
    ".\n",
    "\n",
    ".\n",
    "\n",
    ".\n",
    "\n",
    ".\n",
    "\n",
    ".\n",
    "\n",
    ".\n",
    "\n",
    ".\n",
    "\n",
    ".\n",
    "\n",
    ".\n",
    "\n",
    ".\n",
    "\n",
    ".\n",
    "\n",
    ".\n",
    "\n",
    ".\n",
    "\n",
    ".\n",
    "\n",
    "."
   ]
  },
  {
   "cell_type": "code",
   "execution_count": null,
   "metadata": {},
   "outputs": [],
   "source": [
    "# Løsningsforslag 1:\n",
    "\n",
    "lengde = int(input(\"Oppgi lengden til rektanglet i cm: \"))\n",
    "bredde = int(input(\"Oppgi lengden til rektanglet i cm: \"))\n",
    "\n",
    "areal = lengde * bredde\n",
    "print(\"Arealet av rektanglet er\", areal, \"cm^2\")"
   ]
  },
  {
   "cell_type": "markdown",
   "metadata": {},
   "source": [
    "Det hadde dessuten gått like fint - kanskje vel så fint - å løse denne oppgaven ved å bruke `float()` i stedet for `int()`. Da åpner du for at brukeren kan skrive inn desimaltall som sidelengder uten å få feilmelding."
   ]
  },
  {
   "cell_type": "code",
   "execution_count": null,
   "metadata": {},
   "outputs": [],
   "source": [
    "# Løsningsforslag 2:\n",
    "\n",
    "lengde = float(input(\"Oppgi lengden til rektanglet i cm: \"))\n",
    "bredde = float(input(\"Oppgi lengden til rektanglet i cm: \"))\n",
    "\n",
    "areal = lengde * bredde\n",
    "print(\"Arealet av rektanglet er\", areal, \"cm^2\")"
   ]
  },
  {
   "cell_type": "markdown",
   "metadata": {},
   "source": [
    "<div class=\"alert alert-block alert-danger\">\n",
    "\n",
    "**Pass på!**\n",
    "\n",
    "Merk her at man kun kan skrive inn tall som input, og ikke for eksempel `2cm`. Da oppstår det en feilmelding, for bokstavene \"cm\" kan ikke konverteres til tall.\n",
    "\n",
    "</div>"
   ]
  },
  {
   "cell_type": "markdown",
   "metadata": {},
   "source": [
    "<div class=\"alert alert-block alert-info\">\n",
    "\n",
    "**Oppgave:**\n",
    "\n",
    "Nå skal du lage et lignende program, men dette skal du lage helt fra bunnen av.\n",
    "\n",
    "1. Lag et program som tar inn et navn som input\n",
    "2. Utvid programmet til å også ta inn et tall knyttet til personen (for eksmpel alder, høyde)\n",
    "3. Utvid programmet videre til å ta inn den samme informasjonen fra en person til (både navn og tall) \n",
    "4. Få programmet til å skrive ut en setning med de to navnene og gjennomsnittsverdien av tallene. For eksempel, hvis du vil ha informasjon om høyde, og input fra brukeren er at Thorvald er $180$ cm og Tora er $166$ cm, kan outputen til programmet være `horvald og Tora er i snitt 173 cm høye` \n",
    "\n",
    "Husk å skrive klare beskjeder inni `input()`-parentesen slik at det blir lett for brukeren å skjønne hva slags input som trengs.\n",
    "\n",
    "Du finner et løsningsforslag lenger ned - men prøv selv først!\n",
    "\n",
    "</div>"
   ]
  },
  {
   "cell_type": "code",
   "execution_count": null,
   "metadata": {},
   "outputs": [],
   "source": [
    "# Her kan du skrive programmet ditt:\n",
    "\n"
   ]
  },
  {
   "cell_type": "markdown",
   "metadata": {},
   "source": [
    ".\n",
    "\n",
    ".\n",
    "\n",
    ".\n",
    "\n",
    ".\n",
    "\n",
    ".\n",
    "\n",
    ".\n",
    "\n",
    ".\n",
    "\n",
    ".\n",
    "\n",
    ".\n",
    "\n",
    ".\n",
    "\n",
    ".\n",
    "\n",
    ".\n",
    "\n",
    ".\n",
    "\n",
    ".\n",
    "\n",
    ".\n",
    "\n",
    ".\n",
    "\n",
    ".\n",
    "\n",
    ".\n",
    "\n",
    ".\n",
    "\n",
    ".\n",
    "\n",
    "."
   ]
  },
  {
   "cell_type": "code",
   "execution_count": null,
   "metadata": {},
   "outputs": [],
   "source": [
    "# Løsningsforslag 1:\n",
    "\n",
    "navn_1 = input(\"Hva heter den første personen? \")\n",
    "hoyde_1 = float(input(\"Hvor høy er den første personen i cm? \"))\n",
    "\n",
    "navn_2 = input(\"Hva heter den andre personen? \")\n",
    "hoyde_2 = float(input(\"Hvor høy er den andre personen i cm? \"))\n",
    "\n",
    "gjsnitt = (hoyde_1 + hoyde_2) / 2\n",
    "\n",
    "print(navn_1, \"og\", navn_2, \"er i snitt\", gjsnitt, \"cm høye.\")"
   ]
  },
  {
   "cell_type": "markdown",
   "metadata": {},
   "source": [
    "<div class=\"alert alert-block alert-success\">\n",
    "\n",
    "**Tips:**\n",
    "\n",
    "Her kan det være at du prøvde å skrive noe sånt som \n",
    "\n",
    "`hoyde_1 = float(input(\"Hvor høy er\", navn_1, \"i cm? \"))`\n",
    "\n",
    "I så fall vil du ha fått en feilmelding, for her har vi både variabler og tekststrenger inni `input()`-parentesen, skilt med komma. Man maksimalt kan ha én ting inni denne parentesen, hvis ikke blir det krøll. \n",
    "\n",
    "Men, hvis du gjerne vil ha en variabel med i spørsmålsstillingen kan man \"hacke\" seg til å gjøre det, som vist i den alternative løsningen under:\n",
    "\n",
    "</div>"
   ]
  },
  {
   "cell_type": "code",
   "execution_count": null,
   "metadata": {},
   "outputs": [],
   "source": [
    "# Løsningsforslag 2:\n",
    "\n",
    "navn_1 = input(\"Hva heter den første personen? \")   # Brukeren får opp det første spørsmålet og en svarboks, og det\n",
    "                                                    # brukeren svarer blir verdien til navn_1.\n",
    "print(\"Hvor høy er\", navn_1, \"i cm? \")              # Brukeren får opp det andre spørsmålet, her med navn_1 som en del\n",
    "                                                    # av teksten.\n",
    "hoyde_1 = float(input())                            # Først her lages svarboksen, som brukeren skriver en passende\n",
    "                                                    # verdi i. Denne verdien tilordnes variabelen hoyde_1.\n",
    "\n",
    "navn_2 = input(\"Hva heter den andre personen? \")\n",
    "print(\"Hvor høy er\", navn_2, \"i cm? \")\n",
    "hoyde_2 = float(input())\n",
    "\n",
    "gjsnitt = (hoyde_1 + hoyde_2) / 2\n",
    "\n",
    "print(navn_1, \"og\", navn_2, \"er i snitt\", gjsnitt, \"cm høye.\")"
   ]
  },
  {
   "cell_type": "markdown",
   "metadata": {},
   "source": [
    "[Til toppen](#Input-fra-bruker)"
   ]
  }
 ],
 "metadata": {
  "kernelspec": {
   "display_name": "Python 3",
   "language": "python",
   "name": "python3"
  },
  "language_info": {
   "codemirror_mode": {
    "name": "ipython",
    "version": 3
   },
   "file_extension": ".py",
   "mimetype": "text/x-python",
   "name": "python",
   "nbconvert_exporter": "python",
   "pygments_lexer": "ipython3",
   "version": "3.7.0"
  }
 },
 "nbformat": 4,
 "nbformat_minor": 2
}
